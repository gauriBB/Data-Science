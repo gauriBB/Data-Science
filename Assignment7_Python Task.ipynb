{
 "cells": [
  {
   "cell_type": "markdown",
   "id": "46ba9949",
   "metadata": {},
   "source": [
    "##### Q1. Create a function which will take a list as an argument and return the product of all the numbers after creating a flat list. Use the below-given list as an argument for your function.\n",
    "list1 = [1,2,3,4, [44,55,66, True], False, (34,56,78,89,34), {1,2,3,3,2,1}, {1:34, \"key2\": [55, 67, 78, 89], 4: (45, 22, 61, 34)}, [56, 'data science'], 'Machine Learning']\n",
    "Note: you must extract numeric keys and values of the dictionary also."
   ]
  },
  {
   "cell_type": "code",
   "execution_count": 19,
   "id": "9067866c",
   "metadata": {},
   "outputs": [
    {
     "name": "stdout",
     "output_type": "stream",
     "text": [
      "Product of all numbers: 7298565120\n"
     ]
    }
   ],
   "source": [
    "def calculate_product(lst):\n",
    "    product = 1\n",
    "    for element in lst:\n",
    "        if isinstance(element, (int, float)):\n",
    "            if element != 0: # skip multiplication if element is 0\n",
    "                product *= element\n",
    "        elif isinstance(element, list):\n",
    "            product *= calculate_product(element)\n",
    "        elif isinstance(element, dict):\n",
    "            for key , value in element.items():\n",
    "                if isinstance(value, (int,float)):\n",
    "                    if value != 0: # skip multiplication if value = 0\n",
    "                        product*= value\n",
    "    return product\n",
    "list1 = [1,2,3,4, [44,55,66, True], False, (34,56,78,89,34), {1,2,3,3,2,1}, {1:34, \"key2\": [55, 67, 78, 89], 4: (45, 22, 61, 34)}, [56, 'data science'], 'Machine Learning']\n",
    "result = calculate_product(list1)\n",
    "print(\"Product of all numbers:\",result)"
   ]
  },
  {
   "cell_type": "markdown",
   "id": "ff2af87c",
   "metadata": {},
   "source": [
    "#### Q2. Write a python program for encrypting a message sent to you by your friend. The logic of encryption should be such that, for a the output should be z. For b, the output should be y. For c, the output should be x respectively. Also, the whitespace should be replaced with a dollar sign. Keep the punctuation marks unchanged. Input Sentence: I want to become a Data Scientist. Encrypt the above input sentence using the program you just created. Note: Convert the given input sentence into lowercase before encrypting. The final output should be lowercase."
   ]
  },
  {
   "cell_type": "code",
   "execution_count": 22,
   "id": "f4075386",
   "metadata": {},
   "outputs": [
    {
     "name": "stdout",
     "output_type": "stream",
     "text": [
      "r dzmg gl yvxlnv z wzgz hxrvmgrhg.\n"
     ]
    }
   ],
   "source": [
    "def encrypt_message(message):\n",
    "    encrypted_message = \"\"\n",
    "    for char in message.lower():\n",
    "        if char.isalpha():\n",
    "            encrypted_char = chr(ord('z') - (ord(char) - ord('a')))\n",
    "        elif char.isspace():\n",
    "            encrypted_char = ' '\n",
    "        else:\n",
    "            encrypted_char = char\n",
    "        encrypted_message += encrypted_char\n",
    "    return encrypted_message\n",
    "\n",
    "input_sentence = \"I want to become a Data Scientist.\"\n",
    "encrypted_sentence = encrypt_message(input_sentence)\n",
    "print(encrypted_sentence)\n"
   ]
  }
 ],
 "metadata": {
  "kernelspec": {
   "display_name": "Python 3 (ipykernel)",
   "language": "python",
   "name": "python3"
  },
  "language_info": {
   "codemirror_mode": {
    "name": "ipython",
    "version": 3
   },
   "file_extension": ".py",
   "mimetype": "text/x-python",
   "name": "python",
   "nbconvert_exporter": "python",
   "pygments_lexer": "ipython3",
   "version": "3.12.7"
  }
 },
 "nbformat": 4,
 "nbformat_minor": 5
}
