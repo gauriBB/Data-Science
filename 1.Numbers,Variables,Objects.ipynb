{
 "cells": [
  {
   "cell_type": "markdown",
   "id": "de27eb1c-35d1-4175-9a6e-3037443d0686",
   "metadata": {},
   "source": [
    "        "
   ]
  },
  {
   "cell_type": "code",
   "execution_count": null,
   "id": "be17c807-3ebb-4431-89df-763ca17ba7c9",
   "metadata": {},
   "outputs": [],
   "source": []
  },
  {
   "cell_type": "code",
   "execution_count": null,
   "id": "297d733f-ff83-4e29-93a1-a17229750402",
   "metadata": {},
   "outputs": [],
   "source": []
  },
  {
   "cell_type": "code",
   "execution_count": null,
   "id": "5265b1c1-b5b9-4192-bd34-7251fd717a10",
   "metadata": {},
   "outputs": [],
   "source": []
  },
  {
   "cell_type": "code",
   "execution_count": null,
   "id": "63819bd1-17b4-4b2c-9695-3bda09ff0581",
   "metadata": {},
   "outputs": [],
   "source": []
  },
  {
   "cell_type": "code",
   "execution_count": 44,
   "id": "a4291b2a-b02a-448e-975d-20ba82af9fc8",
   "metadata": {},
   "outputs": [
    {
     "data": {
      "text/plain": [
       "10"
      ]
     },
     "execution_count": 44,
     "metadata": {},
     "output_type": "execute_result"
    }
   ],
   "source": [
    "a=10\n",
    "a"
   ]
  },
  {
   "cell_type": "code",
   "execution_count": 58,
   "id": "846f5292-1f32-4f03-8a64-d1d78e87898d",
   "metadata": {},
   "outputs": [
    {
     "data": {
      "text/plain": [
       "10"
      ]
     },
     "execution_count": 58,
     "metadata": {},
     "output_type": "execute_result"
    }
   ],
   "source": [
    "# Welcome, this comment\n",
    "a"
   ]
  },
  {
   "cell_type": "code",
   "execution_count": 60,
   "id": "2eaa9700-41eb-429a-a8bc-7877ab582db8",
   "metadata": {},
   "outputs": [
    {
     "data": {
      "text/plain": [
       "10"
      ]
     },
     "execution_count": 60,
     "metadata": {},
     "output_type": "execute_result"
    }
   ],
   "source": [
    "''' this is multilines comments\n",
    "Welcome'''\n",
    "a"
   ]
  },
  {
   "cell_type": "markdown",
   "id": "7474c890-702e-4609-8b71-9f1814de7454",
   "metadata": {},
   "source": [
    "# Hello, Guys\n",
    "## How are you all\n",
    "#### Let,s Get started"
   ]
  },
  {
   "cell_type": "markdown",
   "id": "834786d6-aaf1-4cbb-aee4-5dd0cbb171fe",
   "metadata": {},
   "source": [
    "# RAW"
   ]
  },
  {
   "cell_type": "raw",
   "id": "83071346-24d9-4e88-9e7d-cb5fb2ae9a93",
   "metadata": {},
   "source": [
    "Use of Raw : Makes a non executable raw data"
   ]
  },
  {
   "cell_type": "markdown",
   "id": "806fce81-7a73-4be6-8833-0985738ad8c3",
   "metadata": {},
   "source": [
    "# OBJECTS, NUMBERS, "
   ]
  },
  {
   "cell_type": "code",
   "execution_count": 77,
   "id": "758e1e43-108c-4db4-a562-e0bda61bb0ee",
   "metadata": {},
   "outputs": [
    {
     "data": {
      "text/plain": [
       "10"
      ]
     },
     "execution_count": 77,
     "metadata": {},
     "output_type": "execute_result"
    }
   ],
   "source": [
    "a"
   ]
  },
  {
   "cell_type": "code",
   "execution_count": 79,
   "id": "a621e6f7-6fda-4a61-95e1-e7958e2b06c1",
   "metadata": {},
   "outputs": [
    {
     "name": "stdout",
     "output_type": "stream",
     "text": [
      "10\n"
     ]
    }
   ],
   "source": [
    "print(a)"
   ]
  },
  {
   "cell_type": "code",
   "execution_count": 81,
   "id": "a1a5adf9-d143-4f93-9a97-15665d00736e",
   "metadata": {},
   "outputs": [
    {
     "name": "stdout",
     "output_type": "stream",
     "text": [
      "6\n"
     ]
    }
   ],
   "source": [
    "print(1+5)"
   ]
  },
  {
   "cell_type": "code",
   "execution_count": 103,
   "id": "b7d0f8fb-7263-4b57-9df0-8416a68cdcec",
   "metadata": {},
   "outputs": [
    {
     "name": "stdout",
     "output_type": "stream",
     "text": [
      "Hello World\n"
     ]
    }
   ],
   "source": [
    "print(\"Hello World\")"
   ]
  },
  {
   "cell_type": "code",
   "execution_count": 101,
   "id": "481f38c0-ac3c-48a2-a7c1-6dfaf5af651e",
   "metadata": {},
   "outputs": [
    {
     "name": "stdout",
     "output_type": "stream",
     "text": [
      "Hello, This Data Science \n",
      " Welcome to new world\n"
     ]
    }
   ],
   "source": [
    "print(\"Hello, This Data Science \\n Welcome to new world\")"
   ]
  },
  {
   "cell_type": "markdown",
   "id": "12d21c13-73cb-4b7d-922b-e76f32d4aa11",
   "metadata": {},
   "source": [
    "# VARIABLE ASSINGMENT"
   ]
  },
  {
   "cell_type": "code",
   "execution_count": 106,
   "id": "28788bb3-502c-422c-81d9-502cff75b373",
   "metadata": {},
   "outputs": [
    {
     "data": {
      "text/plain": [
       "'GAURI'"
      ]
     },
     "execution_count": 106,
     "metadata": {},
     "output_type": "execute_result"
    }
   ],
   "source": [
    "NAME = \"GAURI\"\n",
    "NAME"
   ]
  },
  {
   "cell_type": "code",
   "execution_count": 114,
   "id": "cb256d6f-08ed-4edb-b646-b7fac7869461",
   "metadata": {},
   "outputs": [
    {
     "data": {
      "text/plain": [
       "'MG GAURI'"
      ]
     },
     "execution_count": 114,
     "metadata": {},
     "output_type": "execute_result"
    }
   ],
   "source": [
    "COMPANY = \"MG\" \n",
    "COMPANY+\" \"+NAME"
   ]
  },
  {
   "cell_type": "code",
   "execution_count": 118,
   "id": "c44f8516-da6c-4c63-b44d-c7023aae5195",
   "metadata": {},
   "outputs": [
    {
     "data": {
      "text/plain": [
       "str"
      ]
     },
     "execution_count": 118,
     "metadata": {},
     "output_type": "execute_result"
    }
   ],
   "source": [
    "type(NAME)"
   ]
  },
  {
   "cell_type": "code",
   "execution_count": 120,
   "id": "7e2af649-324c-44d3-be15-07225a09316a",
   "metadata": {},
   "outputs": [
    {
     "data": {
      "text/plain": [
       "str"
      ]
     },
     "execution_count": 120,
     "metadata": {},
     "output_type": "execute_result"
    }
   ],
   "source": [
    "type(\"\")"
   ]
  },
  {
   "cell_type": "code",
   "execution_count": 122,
   "id": "853568b3-2ee4-4b2a-8f6e-7ea8f9585f51",
   "metadata": {},
   "outputs": [
    {
     "data": {
      "text/plain": [
       "complex"
      ]
     },
     "execution_count": 122,
     "metadata": {},
     "output_type": "execute_result"
    }
   ],
   "source": [
    "type(1+2j)"
   ]
  },
  {
   "cell_type": "code",
   "execution_count": 126,
   "id": "9f7426e0-9677-4ccc-b352-ee64b5516278",
   "metadata": {},
   "outputs": [
    {
     "name": "stdout",
     "output_type": "stream",
     "text": [
      "GAURI\n",
      "COMPNAY\n"
     ]
    }
   ],
   "source": [
    "print(\"GAURI\")\n",
    "print('COMPNAY')"
   ]
  },
  {
   "cell_type": "code",
   "execution_count": 128,
   "id": "ccc37f45-0381-48b2-85aa-33c1a4494a7e",
   "metadata": {},
   "outputs": [],
   "source": [
    "#DON'T START VARIABLE NAME WITH NUMBERS\n",
    "#EX. 1NAME, -34JOY"
   ]
  },
  {
   "cell_type": "code",
   "execution_count": 132,
   "id": "4b2f71c6-7355-4814-889c-7821736d2ed7",
   "metadata": {},
   "outputs": [
    {
     "data": {
      "text/plain": [
       "234"
      ]
     },
     "execution_count": 132,
     "metadata": {},
     "output_type": "execute_result"
    }
   ],
   "source": [
    "NUMBER1=234\n",
    "NUMBER1"
   ]
  },
  {
   "cell_type": "code",
   "execution_count": 136,
   "id": "e9db3391-a82b-488b-b910-169278dcd5b9",
   "metadata": {},
   "outputs": [
    {
     "data": {
      "text/plain": [
       "('GAURI', 'gauri')"
      ]
     },
     "execution_count": 136,
     "metadata": {},
     "output_type": "execute_result"
    }
   ],
   "source": [
    "#VARIABLES ARE CASE-SENSITIVE\n",
    "NAME1=\"GAURI\"\n",
    "NAME2=\"gauri\"\n",
    "NAME1,NAME2"
   ]
  },
  {
   "cell_type": "code",
   "execution_count": null,
   "id": "b2947cd2-dee2-4b06-b01f-64ad9ccd360f",
   "metadata": {},
   "outputs": [],
   "source": [
    "#RESERVED KEYWORDS\n",
    "#INT, LEN, FLOAT, COMPLEX, STR, RETURN, YEILD, BOOLEAN"
   ]
  },
  {
   "cell_type": "markdown",
   "id": "87b63515-f96e-4ea5-aa08-a0f0b15f3a85",
   "metadata": {},
   "source": [
    "# BOOLEAN"
   ]
  },
  {
   "cell_type": "code",
   "execution_count": 145,
   "id": "c1b761e8-cae2-4994-ae4a-00a6797ab1cf",
   "metadata": {},
   "outputs": [
    {
     "data": {
      "text/plain": [
       "False"
      ]
     },
     "execution_count": 145,
     "metadata": {},
     "output_type": "execute_result"
    }
   ],
   "source": [
    "True and False"
   ]
  },
  {
   "cell_type": "code",
   "execution_count": 157,
   "id": "b61eb930-4402-4694-bf27-476222f463ca",
   "metadata": {},
   "outputs": [
    {
     "data": {
      "text/plain": [
       "True"
      ]
     },
     "execution_count": 157,
     "metadata": {},
     "output_type": "execute_result"
    }
   ],
   "source": [
    "True or Flase"
   ]
  },
  {
   "cell_type": "code",
   "execution_count": 147,
   "id": "634c88db-df48-4784-8fc4-9e36fd348923",
   "metadata": {},
   "outputs": [
    {
     "data": {
      "text/plain": [
       "-1"
      ]
     },
     "execution_count": 147,
     "metadata": {},
     "output_type": "execute_result"
    }
   ],
   "source": [
    "-True"
   ]
  },
  {
   "cell_type": "code",
   "execution_count": 151,
   "id": "a1ac91e7-1335-49af-b68f-99542559e749",
   "metadata": {},
   "outputs": [
    {
     "data": {
      "text/plain": [
       "0"
      ]
     },
     "execution_count": 151,
     "metadata": {},
     "output_type": "execute_result"
    }
   ],
   "source": [
    "-False"
   ]
  },
  {
   "cell_type": "code",
   "execution_count": 153,
   "id": "b1428105-7b5a-4c38-b6c2-6e2d12aed201",
   "metadata": {},
   "outputs": [
    {
     "data": {
      "text/plain": [
       "True"
      ]
     },
     "execution_count": 153,
     "metadata": {},
     "output_type": "execute_result"
    }
   ],
   "source": [
    "True"
   ]
  },
  {
   "cell_type": "code",
   "execution_count": 155,
   "id": "731faa81-b666-42dd-97c2-8d9b4326f333",
   "metadata": {},
   "outputs": [
    {
     "data": {
      "text/plain": [
       "False"
      ]
     },
     "execution_count": 155,
     "metadata": {},
     "output_type": "execute_result"
    }
   ],
   "source": [
    "False"
   ]
  },
  {
   "cell_type": "code",
   "execution_count": 159,
   "id": "373640a1-ec5e-43c3-ba72-ec3f2af7557e",
   "metadata": {},
   "outputs": [
    {
     "data": {
      "text/plain": [
       "False"
      ]
     },
     "execution_count": 159,
     "metadata": {},
     "output_type": "execute_result"
    }
   ],
   "source": [
    "not True"
   ]
  },
  {
   "cell_type": "code",
   "execution_count": 161,
   "id": "f0b9ce88-1842-4db2-8347-031134c77a23",
   "metadata": {},
   "outputs": [
    {
     "data": {
      "text/plain": [
       "True"
      ]
     },
     "execution_count": 161,
     "metadata": {},
     "output_type": "execute_result"
    }
   ],
   "source": [
    "not False"
   ]
  },
  {
   "cell_type": "code",
   "execution_count": 163,
   "id": "6e1a3668-0151-45ca-ba96-8d7e6792dbf3",
   "metadata": {},
   "outputs": [
    {
     "data": {
      "text/plain": [
       "True"
      ]
     },
     "execution_count": 163,
     "metadata": {},
     "output_type": "execute_result"
    }
   ],
   "source": [
    "not False and True"
   ]
  },
  {
   "cell_type": "code",
   "execution_count": 165,
   "id": "8831fa58-9242-4e6a-8100-578b53481344",
   "metadata": {},
   "outputs": [
    {
     "data": {
      "text/plain": [
       "True"
      ]
     },
     "execution_count": 165,
     "metadata": {},
     "output_type": "execute_result"
    }
   ],
   "source": [
    "not False or True"
   ]
  },
  {
   "cell_type": "code",
   "execution_count": 167,
   "id": "5bf50133-4fea-47bd-adca-7c8f662416a8",
   "metadata": {},
   "outputs": [
    {
     "data": {
      "text/plain": [
       "bool"
      ]
     },
     "execution_count": 167,
     "metadata": {},
     "output_type": "execute_result"
    }
   ],
   "source": [
    "type(not False)"
   ]
  },
  {
   "cell_type": "code",
   "execution_count": 169,
   "id": "5ee2df45-e356-42a4-942c-2f4962a0a887",
   "metadata": {},
   "outputs": [
    {
     "data": {
      "text/plain": [
       "False"
      ]
     },
     "execution_count": 169,
     "metadata": {},
     "output_type": "execute_result"
    }
   ],
   "source": [
    "#Type casting\n",
    "bool(0)"
   ]
  },
  {
   "cell_type": "code",
   "execution_count": 171,
   "id": "ac04f65d-b107-49e8-b87c-45d323a28924",
   "metadata": {},
   "outputs": [
    {
     "data": {
      "text/plain": [
       "True"
      ]
     },
     "execution_count": 171,
     "metadata": {},
     "output_type": "execute_result"
    }
   ],
   "source": [
    "bool(1)"
   ]
  },
  {
   "cell_type": "code",
   "execution_count": 177,
   "id": "fbd2a0f2-8144-4817-aef1-2c6f2a9c8c0f",
   "metadata": {},
   "outputs": [
    {
     "data": {
      "text/plain": [
       "True"
      ]
     },
     "execution_count": 177,
     "metadata": {},
     "output_type": "execute_result"
    }
   ],
   "source": [
    "bool(7)"
   ]
  },
  {
   "cell_type": "code",
   "execution_count": 179,
   "id": "0e66f86b-c063-4556-9d95-3e6d2ed02067",
   "metadata": {},
   "outputs": [
    {
     "data": {
      "text/plain": [
       "bool"
      ]
     },
     "execution_count": 179,
     "metadata": {},
     "output_type": "execute_result"
    }
   ],
   "source": [
    "type(bool(7))"
   ]
  },
  {
   "cell_type": "code",
   "execution_count": 181,
   "id": "f6b1e7ae-5d2f-4788-bd01-238a3c099739",
   "metadata": {},
   "outputs": [
    {
     "data": {
      "text/plain": [
       "str"
      ]
     },
     "execution_count": 181,
     "metadata": {},
     "output_type": "execute_result"
    }
   ],
   "source": [
    "type(str(20))"
   ]
  },
  {
   "cell_type": "code",
   "execution_count": 183,
   "id": "f1685795-648b-481c-a193-2044f89417bc",
   "metadata": {},
   "outputs": [
    {
     "data": {
      "text/plain": [
       "int"
      ]
     },
     "execution_count": 183,
     "metadata": {},
     "output_type": "execute_result"
    }
   ],
   "source": [
    "type(int(20))"
   ]
  },
  {
   "cell_type": "code",
   "execution_count": 197,
   "id": "7bad9b0c-3280-4744-9e35-8d1101c81537",
   "metadata": {},
   "outputs": [
    {
     "name": "stdout",
     "output_type": "stream",
     "text": [
      "True\n"
     ]
    }
   ],
   "source": [
    "a=1\n",
    "if bool(a)==True:\n",
    "    \n",
    "    print(\"True\")"
   ]
  },
  {
   "cell_type": "markdown",
   "id": "8c7a1cfd-fdf5-43aa-a659-87297bbcf010",
   "metadata": {},
   "source": [
    "# DYNAMIC TYPING"
   ]
  },
  {
   "cell_type": "code",
   "execution_count": 203,
   "id": "b722f8fe-672e-4471-ad18-9ecdd8570df2",
   "metadata": {},
   "outputs": [
    {
     "data": {
      "text/plain": [
       "(20, 'Gauri')"
      ]
     },
     "execution_count": 203,
     "metadata": {},
     "output_type": "execute_result"
    }
   ],
   "source": [
    "NUM=20\n",
    "Name=\"Gauri\"\n",
    "NUM, Name"
   ]
  },
  {
   "cell_type": "code",
   "execution_count": 209,
   "id": "f515647a-da03-4b46-9938-2b3a77a938e6",
   "metadata": {},
   "outputs": [
    {
     "data": {
      "text/plain": [
       "(int, str)"
      ]
     },
     "execution_count": 209,
     "metadata": {},
     "output_type": "execute_result"
    }
   ],
   "source": [
    "type(NUM), type(Name)"
   ]
  },
  {
   "cell_type": "code",
   "execution_count": 211,
   "id": "5a17a864-76d6-4b44-9b5a-19680088ff9c",
   "metadata": {},
   "outputs": [
    {
     "data": {
      "text/plain": [
       "'11'"
      ]
     },
     "execution_count": 211,
     "metadata": {},
     "output_type": "execute_result"
    }
   ],
   "source": [
    "#concatenation of 2 diff types\n",
    "\"1\"+\"1\""
   ]
  },
  {
   "cell_type": "code",
   "execution_count": 213,
   "id": "87913bca-f446-4e48-987a-17fe3b7e5374",
   "metadata": {},
   "outputs": [
    {
     "data": {
      "text/plain": [
       "2"
      ]
     },
     "execution_count": 213,
     "metadata": {},
     "output_type": "execute_result"
    }
   ],
   "source": [
    "int(\"1\")+int(\"1\")"
   ]
  },
  {
   "cell_type": "code",
   "execution_count": 215,
   "id": "263cb93a-8f65-4741-ac4c-ec75530142c6",
   "metadata": {},
   "outputs": [
    {
     "ename": "TypeError",
     "evalue": "can only concatenate str (not \"int\") to str",
     "output_type": "error",
     "traceback": [
      "\u001b[0;31m---------------------------------------------------------------------------\u001b[0m",
      "\u001b[0;31mTypeError\u001b[0m                                 Traceback (most recent call last)",
      "Cell \u001b[0;32mIn[215], line 1\u001b[0m\n\u001b[0;32m----> 1\u001b[0m \u001b[38;5;124m\"\u001b[39m\u001b[38;5;124m1\u001b[39m\u001b[38;5;124m\"\u001b[39m\u001b[38;5;241m+\u001b[39m\u001b[38;5;241m1\u001b[39m\n",
      "\u001b[0;31mTypeError\u001b[0m: can only concatenate str (not \"int\") to str"
     ]
    }
   ],
   "source": [
    "#Can't do\n",
    "\"1\"+1"
   ]
  },
  {
   "cell_type": "code",
   "execution_count": 220,
   "id": "dd98c0b4-3714-415e-8192-c07c58de3350",
   "metadata": {},
   "outputs": [
    {
     "data": {
      "text/plain": [
       "'1111111111111111111111111111111111111111111111111111111111111111111111111111111111111111111111111111'"
      ]
     },
     "execution_count": 220,
     "metadata": {},
     "output_type": "execute_result"
    }
   ],
   "source": [
    "100*\"1\""
   ]
  },
  {
   "cell_type": "code",
   "execution_count": 227,
   "id": "10206c25-5750-45c4-8e27-7227d297c888",
   "metadata": {},
   "outputs": [
    {
     "data": {
      "text/plain": [
       "True"
      ]
     },
     "execution_count": 227,
     "metadata": {},
     "output_type": "execute_result"
    }
   ],
   "source": [
    "bool(-1)"
   ]
  }
 ],
 "metadata": {
  "kernelspec": {
   "display_name": "Python 3 (ipykernel)",
   "language": "python",
   "name": "python3"
  },
  "language_info": {
   "codemirror_mode": {
    "name": "ipython",
    "version": 3
   },
   "file_extension": ".py",
   "mimetype": "text/x-python",
   "name": "python",
   "nbconvert_exporter": "python",
   "pygments_lexer": "ipython3",
   "version": "3.12.7"
  }
 },
 "nbformat": 4,
 "nbformat_minor": 5
}
