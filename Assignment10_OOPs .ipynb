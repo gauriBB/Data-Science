{
 "cells": [
  {
   "cell_type": "markdown",
   "id": "66717aca",
   "metadata": {},
   "source": [
    "##### Q1. Explain Class and Object with respect to Object-Oriented Programming. Give a suitable example."
   ]
  },
  {
   "cell_type": "markdown",
   "id": "b6cc44a4",
   "metadata": {},
   "source": [
    "A class is a blueprint or template that defines the attributes and behaviors of objects. \n",
    "Objects, on the other hand, are instances of a class. They have their own set of attributes and can perform actions defined by the class methods. The class allows us to create multiple objects with similar characteristics and behaviors, providing a way to organize and structure our code."
   ]
  },
  {
   "cell_type": "code",
   "execution_count": 1,
   "id": "1b6e6ed8",
   "metadata": {},
   "outputs": [
    {
     "name": "stdout",
     "output_type": "stream",
     "text": [
      "John\n",
      "Hello, my name is John\n",
      "I am 25 years old\n"
     ]
    }
   ],
   "source": [
    "class Person:\n",
    "    def __init__(self, name, age):\n",
    "        self.name = name\n",
    "        self.age = age\n",
    "    \n",
    "    def greet(self):\n",
    "        print(\"Hello, my name is\", self.name)\n",
    "        print(\"I am\", self.age, \"years old\")\n",
    "\n",
    "# Creating objects of the Person class\n",
    "person1 = Person(\"John\", 25)\n",
    "person2 = Person(\"Alice\", 30)\n",
    "# Accessing object attributes\n",
    "print(person1.name)  \n",
    "# Calling object methods\n",
    "person1.greet() "
   ]
  },
  {
   "cell_type": "markdown",
   "id": "b2e1b06e",
   "metadata": {},
   "source": [
    "##### Q2. Name the four pillars of OOPs."
   ]
  },
  {
   "cell_type": "markdown",
   "id": "af8fbd41",
   "metadata": {},
   "source": [
    "These four pillars of OOPs: encapsulation, inheritance, polymorphism, and abstraction—provide fundamental principles and concepts that guide the design and implementation of object-oriented systems, promoting modularity, flexibility, and maintainability."
   ]
  },
  {
   "cell_type": "markdown",
   "id": "3695d309",
   "metadata": {},
   "source": [
    "##### Explain why the __init__() function is used. Give a suitable example."
   ]
  },
  {
   "cell_type": "markdown",
   "id": "fe0fa7b4",
   "metadata": {},
   "source": [
    "The __init__() function allows us to initialize the state of objects at the time of creation. It provides a convenient way to set initial attribute values and ensures that every object created from the class starts with a defined state. Without the __init__() function, we would need to manually set the attributes for each object after creating them, which could be cumbersome and error-prone."
   ]
  },
  {
   "cell_type": "code",
   "execution_count": null,
   "id": "83685b65",
   "metadata": {},
   "outputs": [],
   "source": [
    "class Person:\n",
    "    def __init__(self, name):\n",
    "        self.name = name\n",
    "    def introduce(self):\n",
    "        print(\"Hello, my name is\", self.name)   \n",
    "        \n",
    "# Creating an object of the Person class\n",
    "person = Person(\"John\")\n",
    "person.introduce()\n"
   ]
  },
  {
   "cell_type": "markdown",
   "id": "136181b1",
   "metadata": {},
   "source": [
    "##### Q4. Why self is used in OOPs?"
   ]
  },
  {
   "cell_type": "markdown",
   "id": "256ed7cd",
   "metadata": {},
   "source": [
    "In object-oriented programming (OOP), self is used to refer to the current object or instance of a class. It allows methods within the class to access and modify the object's attributes and call other methods belonging to the object.\n",
    "By using self, we can:\n",
    "Access and modify the object's attributes:self.attribute_name()\n",
    "Call other methods of the object: self.method_name()\n",
    "Using self helps ensure that each object operates on its own data, rather than affecting or being affected by other objects of the same class. It helps in encapsulating and organizing data within objects, making it easier to work with and maintain code."
   ]
  },
  {
   "cell_type": "markdown",
   "id": "f22f852f",
   "metadata": {},
   "source": [
    "#### Q5. What is inheritance? Give an example for each type of inheritance."
   ]
  },
  {
   "cell_type": "markdown",
   "id": "6fe090dc",
   "metadata": {},
   "source": [
    "\n",
    "Inheritance is a fundamental concept in object-oriented programming (OOP) that allows classes to inherit attributes and behaviors from other classes. It enables the creation of hierarchical relationships between classes, where a derived class (subclass) inherits the characteristics of a base class (superclass). This promotes code reuse, modularity, and the ability to create specialized classes based on more general ones.\n",
    "\n",
    "1.Single Inheritance: In single inheritance, a subclass inherits from a single base class. This is the most common type of inheritance. Here's an example:\n",
    "\n"
   ]
  },
  {
   "cell_type": "code",
   "execution_count": 8,
   "id": "e31e1c8f",
   "metadata": {},
   "outputs": [
    {
     "name": "stdout",
     "output_type": "stream",
     "text": [
      "Breathing...\n",
      "Eating...\n",
      "Barking...\n"
     ]
    }
   ],
   "source": [
    "class Animal:\n",
    "    def breathe(self):\n",
    "        print(\"Breathing...\")\n",
    "\n",
    "    def eat(self):\n",
    "        print(\"Eating...\")\n",
    "\n",
    "class Dog(Animal):\n",
    "    def bark(self):\n",
    "        print(\"Barking...\")\n",
    "dog = Dog()\n",
    "dog.breathe() \n",
    "dog.eat()    \n",
    "dog.bark()\n"
   ]
  },
  {
   "cell_type": "markdown",
   "id": "7e319046",
   "metadata": {},
   "source": [
    "In this example, the Dog class is derived from the Animal class using single inheritance. The Dog class inherits the breathe() and eat() methods from the Animal class. It also defines its own bark() method."
   ]
  },
  {
   "cell_type": "markdown",
   "id": "fe83b80e",
   "metadata": {},
   "source": [
    "2 Multiple Inheritance: In multiple inheritance, a subclass can inherit from multiple base classes. Here's an example:"
   ]
  },
  {
   "cell_type": "code",
   "execution_count": 9,
   "id": "c17b83c3",
   "metadata": {},
   "outputs": [
    {
     "name": "stdout",
     "output_type": "stream",
     "text": [
      "Starting engine...\n",
      "Charging...\n"
     ]
    }
   ],
   "source": [
    "class Car:\n",
    "    def start_engine(self):\n",
    "        print(\"Starting engine...\")\n",
    "\n",
    "class Electric:\n",
    "    def charge(self):\n",
    "        print(\"Charging...\")\n",
    "\n",
    "class HybridCar(Car, Electric):\n",
    "    pass\n",
    "\n",
    "# HybridCar inherits from Car and Electric\n",
    "hybrid_car = HybridCar()\n",
    "hybrid_car.start_engine() \n",
    "hybrid_car.charge()       "
   ]
  },
  {
   "cell_type": "markdown",
   "id": "45f219e2",
   "metadata": {},
   "source": [
    "In this example, the HybridCar class inherits from both the Car and Electric classes using multiple inheritance. The HybridCar class can access the methods from both base classes."
   ]
  },
  {
   "cell_type": "markdown",
   "id": "93b23a8d",
   "metadata": {},
   "source": [
    "3.Multilevel Inheritance: In multilevel inheritance, a derived class becomes the base class for another class. Here's an example:"
   ]
  },
  {
   "cell_type": "code",
   "execution_count": 10,
   "id": "019ae6ef",
   "metadata": {},
   "outputs": [
    {
     "name": "stdout",
     "output_type": "stream",
     "text": [
      "Moving...\n",
      "Starting engine...\n",
      "Accelerating...\n"
     ]
    }
   ],
   "source": [
    "class Vehicle:\n",
    "    def move(self):\n",
    "        print(\"Moving...\")\n",
    "\n",
    "class Car(Vehicle):\n",
    "    def start_engine(self):\n",
    "        print(\"Starting engine...\")\n",
    "\n",
    "class SportsCar(Car):\n",
    "    def accelerate(self):\n",
    "        print(\"Accelerating...\")\n",
    "\n",
    "# SportsCar inherits from Car, which inherits from Vehicle\n",
    "sports_car = SportsCar()\n",
    "sports_car.move()         \n",
    "sports_car.start_engine() \n",
    "sports_car.accelerate()  \n"
   ]
  },
  {
   "cell_type": "markdown",
   "id": "fb236ca5",
   "metadata": {},
   "source": [
    "In this example, the SportsCar class inherits from the Car class, which in turn inherits from the Vehicle class. The SportsCar class can access methods from both the Car and Vehicle classes."
   ]
  }
 ],
 "metadata": {
  "kernelspec": {
   "display_name": "Python 3 (ipykernel)",
   "language": "python",
   "name": "python3"
  },
  "language_info": {
   "codemirror_mode": {
    "name": "ipython",
    "version": 3
   },
   "file_extension": ".py",
   "mimetype": "text/x-python",
   "name": "python",
   "nbconvert_exporter": "python",
   "pygments_lexer": "ipython3",
   "version": "3.9.13"
  }
 },
 "nbformat": 4,
 "nbformat_minor": 5
}
