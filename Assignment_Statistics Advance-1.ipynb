{
 "cells": [
  {
   "cell_type": "markdown",
   "id": "a30ee8a3",
   "metadata": {},
   "source": [
    "### Q1. What is the Probability density function?"
   ]
  },
  {
   "cell_type": "markdown",
   "id": "970930e6",
   "metadata": {},
   "source": [
    "The Probability Density Function (PDF) is a function that describes the likelihood of obtaining a particular value from a continuous random variable. For a continuous random variable X, the PDF is denoted as f(x) and satisfies the following proprties:\n",
    "    1.f(x)>= 0 for all x in the range of X\n",
    "    2. The total area under the PDF curve over the entire range of X is equal to 1.\n",
    "Mathematically, the probability that X lies in a given interval[a,b] is given by the integral of the PDF over that interval integral_a^b f(x)dx."
   ]
  },
  {
   "cell_type": "markdown",
   "id": "0b797007",
   "metadata": {},
   "source": [
    "### Q2: What are the types of Probability distribution?"
   ]
  },
  {
   "cell_type": "markdown",
   "id": "42de7de7",
   "metadata": {},
   "source": [
    "There are several types of probability distributions, and they can be broadly categorized into two main types:\n",
    "\n",
    "Discrete Probability Distributions:\n",
    "\n",
    "Bernoulli Distribution\n",
    "Binomial Distribution\n",
    "Poisson Distribution\n",
    "Geometric Distribution\n",
    "Hypergeometric Distribution\n",
    "Negative Binomial Distribution\n",
    "Continuous Probability Distributions:\n",
    "\n",
    "Normal Distribution\n",
    "Exponential Distribution\n",
    "Uniform Distribution\n",
    "Gamma Distribution\n",
    "Beta Distribution\n",
    "Cauchy Distribution"
   ]
  },
  {
   "cell_type": "markdown",
   "id": "b9cfd18f",
   "metadata": {},
   "source": [
    "### Q3: Write a Python function to calculate the probability density function of a normal distribution with given mean and standard deviation at a given point."
   ]
  },
  {
   "cell_type": "code",
   "execution_count": 3,
   "id": "495434b4",
   "metadata": {},
   "outputs": [],
   "source": [
    "import math\n",
    "\n",
    "def normal_pdf(x, mean, std_dev):\n",
    "    \"\"\"\n",
    "    Calculate the probability density function (PDF) of a normal distribution at a given point.\n",
    "\n",
    "    Parameters:\n",
    "    - x: The point at which to evaluate the PDF.\n",
    "    - mean: Mean of the normal distribution.\n",
    "    - std_dev: Standard deviation of the normal distribution.\n",
    "\n",
    "    Returns:\n",
    "    - PDF value at the given point.\n",
    "    \"\"\"\n",
    "    exponent = -((x - mean)**2) / (2 * std_dev**2)\n",
    "    pdf = (1 / (std_dev * math.sqrt(2 * math.pi))) * math.exp(exponent)\n",
    "    return pdf\n"
   ]
  },
  {
   "cell_type": "markdown",
   "id": "0de869f4",
   "metadata": {},
   "source": [
    "### Q4: What are the properties of Binomial distribution? Give two examples of events where binomial distribution can be applied."
   ]
  },
  {
   "cell_type": "markdown",
   "id": "e98243dc",
   "metadata": {},
   "source": [
    "Properties of Binomial Distribution:\n",
    "\n",
    "The experiment consists of a fixed number of trials (n).\n",
    "Each trial results in a success or a failure.\n",
    "The probability of success (p) is constant for each trial.\n",
    "The trials are independent.\n",
    "Examples of Events where Binomial Distribution can be Applied:\n",
    "\n",
    "Coin Flips: The number of heads in a series of coin flips.\n",
    "Drug Testing: The number of patients who respond positively to a drug among a group of patients."
   ]
  },
  {
   "cell_type": "markdown",
   "id": "28bf78d1",
   "metadata": {},
   "source": [
    "### Q5: Generate a random sample of size 1000 from a binomial distribution with probability of success 0.4 and plot a histogram of the results using matplotlib."
   ]
  },
  {
   "cell_type": "code",
   "execution_count": 4,
   "id": "3ab2ae89",
   "metadata": {},
   "outputs": [
    {
     "data": {
      "image/png": "[encoded data removed]",
      "text/plain": [
       "<Figure size 640x480 with 1 Axes>"
      ]
     },
     "metadata": {},
     "output_type": "display_data"
    }
   ],
   "source": [
    "import matplotlib.pyplot as plt\n",
    "import numpy as np\n",
    "\n",
    "# Generate a random sample from a binomial distribution\n",
    "sample = np.random.binomial(n=1, p=0.4, size=1000)\n",
    "\n",
    "# Plot a histogram\n",
    "plt.hist(sample, bins=[-0.5, 0.5, 1.5], edgecolor='black')\n",
    "plt.xlabel('Number of Successes')\n",
    "plt.ylabel('Frequency')\n",
    "plt.title('Binomial Distribution Sample')\n",
    "plt.show()"
   ]
  },
  {
   "cell_type": "markdown",
   "id": "c50973d6",
   "metadata": {},
   "source": [
    "### Q6: Write a Python function to calculate the cumulative distribution function of a Poisson distribution with given mean at a given point."
   ]
  },
  {
   "cell_type": "code",
   "execution_count": 5,
   "id": "7c1bd3df",
   "metadata": {},
   "outputs": [],
   "source": [
    "import math\n",
    "\n",
    "def poisson_cdf(x, mean):\n",
    "    \"\"\"\n",
    "    Calculate the cumulative distribution function (CDF) of a Poisson distribution at a given point.\n",
    "\n",
    "    Parameters:\n",
    "    - x: The point at which to evaluate the CDF.\n",
    "    - mean: Mean of the Poisson distribution.\n",
    "\n",
    "    Returns:\n",
    "    - CDF value at the given point.\n",
    "    \"\"\"\n",
    "    cdf = 0\n",
    "    for k in range(math.floor(x) + 1):\n",
    "        cdf += (math.exp(-mean) * mean**k) / math.factorial(k)\n",
    "    return cdf\n"
   ]
  },
  {
   "cell_type": "markdown",
   "id": "abab12eb",
   "metadata": {},
   "source": [
    "### Q7: How is Binomial distribution different from Poisson distribution?"
   ]
  },
  {
   "cell_type": "markdown",
   "id": "211f56a5",
   "metadata": {},
   "source": [
    "Binomial Distribution:\n",
    "\n",
    "Used for a fixed number of independent trials, each with the same probability of success.\n",
    "Discrete distribution (deals with countable outcomes).\n",
    "The number of trials is fixed in advance.\n",
    "Example: Number of heads in 10 coin flips.\n",
    "Poisson Distribution:\n",
    "\n",
    "Used for the number of events that occur in a fixed interval of time or space.\n",
    "Discrete distribution.\n",
    "The events are random and independent.\n",
    "Example: Number of phone calls received in an hour."
   ]
  },
  {
   "cell_type": "markdown",
   "id": "70fef0bf",
   "metadata": {},
   "source": [
    "### Q8: Generate a random sample of size 1000 from a Poisson distribution with mean 5 and calculate the sample mean and variance."
   ]
  },
  {
   "cell_type": "code",
   "execution_count": 6,
   "id": "6b65a503",
   "metadata": {},
   "outputs": [
    {
     "name": "stdout",
     "output_type": "stream",
     "text": [
      "Sample Mean: 4.81\n",
      "Sample Variance: 4.785900000000001\n"
     ]
    }
   ],
   "source": [
    "import numpy as np\n",
    "\n",
    "# Generate a random sample from a Poisson distribution\n",
    "sample = np.random.poisson(lam=5, size=1000)\n",
    "\n",
    "# Calculate sample mean and variance\n",
    "sample_mean = np.mean(sample)\n",
    "sample_variance = np.var(sample)\n",
    "\n",
    "print(\"Sample Mean:\", sample_mean)\n",
    "print(\"Sample Variance:\", sample_variance)"
   ]
  },
  {
   "cell_type": "markdown",
   "id": "9b40ea8f",
   "metadata": {},
   "source": [
    "### Q9: How are mean and variance related in Binomial distribution and Poisson distribution?"
   ]
  },
  {
   "cell_type": "markdown",
   "id": "33e95d28",
   "metadata": {},
   "source": [
    "Binomial Distribution:\n",
    "Mean(μ) =np\n",
    "Variance(σ^2)= np(1−p)\n",
    "Poisson Distribution:\n",
    "Mean = Variance = λ\n",
    "In both distributions, the mean is equal to the variance."
   ]
  },
  {
   "cell_type": "markdown",
   "id": "41b1434b",
   "metadata": {},
   "source": [
    "### Q10: In normal distribution with respect to mean position, where does the least frequent data appear?"
   ]
  },
  {
   "cell_type": "markdown",
   "id": "925f1def",
   "metadata": {},
   "source": [
    "In a normal distribution:\n",
    "\n",
    "The least frequent data appears in the tails of the distribution, farther away from the mean.\n",
    "The tails contain extreme values, and the probability density decreases as you move away from the mean.\n",
    "The majority of the data is concentrated around the mean, making values near the mean more frequent."
   ]
  },
  {
   "cell_type": "code",
   "execution_count": null,
   "id": "50b6b11b",
   "metadata": {},
   "outputs": [],
   "source": []
  },
  {
   "cell_type": "code",
   "execution_count": null,
   "id": "09ea3f3e",
   "metadata": {},
   "outputs": [],
   "source": []
  },
  {
   "cell_type": "code",
   "execution_count": null,
   "id": "79f58c56",
   "metadata": {},
   "outputs": [],
   "source": []
  }
 ],
 "metadata": {
  "kernelspec": {
   "display_name": "Python 3 (ipykernel)",
   "language": "python",
   "name": "python3"
  },
  "language_info": {
   "codemirror_mode": {
    "name": "ipython",
    "version": 3
   },
   "file_extension": ".py",
   "mimetype": "text/x-python",
   "name": "python",
   "nbconvert_exporter": "python",
   "pygments_lexer": "ipython3",
   "version": "3.11.5"
  }
 },
 "nbformat": 4,
 "nbformat_minor": 5
}
