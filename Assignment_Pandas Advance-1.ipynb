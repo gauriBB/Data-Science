{
 "cells": [
  {
   "cell_type": "markdown",
   "id": "9a577ae7",
   "metadata": {},
   "source": [
    "### Q1. List any five functions of the pandas library with execution."
   ]
  },
  {
   "cell_type": "markdown",
   "id": "12c262cd",
   "metadata": {},
   "source": [
    "read_csv: Used to read data from a CSV file into a DataFrame."
   ]
  },
  {
   "cell_type": "code",
   "execution_count": null,
   "id": "2cfd1081",
   "metadata": {},
   "outputs": [],
   "source": [
    "import pandas as pd\n",
    "\n",
    "# Assuming you have a CSV file named 'example.csv'\n",
    "df = pd.read_csv('example.csv')\n",
    "print(df.head())"
   ]
  },
  {
   "cell_type": "markdown",
   "id": "5991e2e2",
   "metadata": {},
   "source": [
    "head: Displays the first n rows of a DataFrame (default is 5)."
   ]
  },
  {
   "cell_type": "code",
   "execution_count": null,
   "id": "37548e0f",
   "metadata": {},
   "outputs": [],
   "source": [
    "# Assuming 'df' is a DataFrame\n",
    "print(df.head())"
   ]
  },
  {
   "cell_type": "markdown",
   "id": "a80cb990",
   "metadata": {},
   "source": [
    "info: Provides a concise summary of a DataFrame, including the data types and non-null values."
   ]
  },
  {
   "cell_type": "code",
   "execution_count": null,
   "id": "f84db3bb",
   "metadata": {},
   "outputs": [],
   "source": [
    "# Assuming 'df' is a DataFrame\n",
    "print(df.info())"
   ]
  },
  {
   "cell_type": "markdown",
   "id": "16b5bf4c",
   "metadata": {},
   "source": [
    "describe: Generates descriptive statistics of a DataFrame, such as mean, median, min, max, etc."
   ]
  },
  {
   "cell_type": "code",
   "execution_count": null,
   "id": "9a760219",
   "metadata": {},
   "outputs": [],
   "source": [
    "# Assuming 'df' is a DataFrame\n",
    "print(df.describe())"
   ]
  },
  {
   "cell_type": "markdown",
   "id": "183e0ad6",
   "metadata": {},
   "source": [
    "groupby: Used to split data into groups based on some criteria and then apply a function to each group independently."
   ]
  },
  {
   "cell_type": "code",
   "execution_count": null,
   "id": "fac21189",
   "metadata": {},
   "outputs": [],
   "source": [
    "# Assuming 'df' is a DataFrame with a 'category' column\n",
    "grouped_data = df.groupby('category').mean()\n",
    "print(grouped_data)"
   ]
  },
  {
   "cell_type": "markdown",
   "id": "66c98ab4",
   "metadata": {},
   "source": [
    "### Q2. Given a Pandas DataFrame df with columns 'A', 'B', and 'C', write a Python function to re-index the DataFrame with a new index that starts from 1 and increments by 2 for each row. "
   ]
  },
  {
   "cell_type": "code",
   "execution_count": 2,
   "id": "439ea315",
   "metadata": {},
   "outputs": [
    {
     "name": "stdout",
     "output_type": "stream",
     "text": [
      "    A   B   C\n",
      "1  10  40  70\n",
      "3  20  50  80\n",
      "5  30  60  90\n"
     ]
    }
   ],
   "source": [
    "import pandas as pd\n",
    "\n",
    "def reindex_with_custom_index(df):\n",
    "    # Create a new index starting from 1 and incrementing by 2\n",
    "    new_index = range(1, 2 * len(df) + 1, 2)\n",
    "\n",
    "    # Set the new index to the DataFrame\n",
    "    df_reindexed = df.set_index(pd.Index(new_index))\n",
    "\n",
    "    return df_reindexed\n",
    "\n",
    "# Example usage:\n",
    "# Assuming 'df' is your DataFrame with columns 'A', 'B', and 'C'\n",
    "df = pd.DataFrame({'A': [10, 20, 30], 'B': [40, 50, 60], 'C': [70, 80, 90]})\n",
    "result_df = reindex_with_custom_index(df)\n",
    "\n",
    "print(result_df)"
   ]
  },
  {
   "cell_type": "markdown",
   "id": "9cf8794c",
   "metadata": {},
   "source": [
    "### Q3. You have a Pandas DataFrame df with a column named 'Values'. Write a Python function that iterates over the DataFrame and calculates the sum of the first three values in the 'Values' column. The function should print the sum to the console. For example, if the 'Values' column of df contains the values [10, 20, 30, 40, 50], your function should calculate and print the sum of the first three values, which is 60."
   ]
  },
  {
   "cell_type": "code",
   "execution_count": 3,
   "id": "52bac278",
   "metadata": {},
   "outputs": [
    {
     "name": "stdout",
     "output_type": "stream",
     "text": [
      "Sum of the first three values: 60\n"
     ]
    }
   ],
   "source": [
    "import pandas as pd\n",
    "\n",
    "def calculate_sum_of_first_three_values(df):\n",
    "    # Extract the first three values from the 'Values' column\n",
    "    first_three_values = df['Values'].head(3)\n",
    "\n",
    "    # Calculate the sum and print it to the console\n",
    "    sum_of_first_three_values = first_three_values.sum()\n",
    "    print(\"Sum of the first three values:\", sum_of_first_three_values)\n",
    "\n",
    "# Example usage:\n",
    "# Assuming 'df' is your DataFrame with the 'Values' column\n",
    "df = pd.DataFrame({'Values': [10, 20, 30, 40, 50]})\n",
    "calculate_sum_of_first_three_values(df)"
   ]
  },
  {
   "cell_type": "markdown",
   "id": "eab57878",
   "metadata": {},
   "source": [
    "### Q4. Given a Pandas DataFrame df with a column 'Text', write a Python function to create a new column 'Word_Count' that contains the number of words in each row of the 'Text' column."
   ]
  },
  {
   "cell_type": "code",
   "execution_count": 4,
   "id": "ebb5c88a",
   "metadata": {},
   "outputs": [
    {
     "name": "stdout",
     "output_type": "stream",
     "text": [
      "                       Text  Word_Count\n",
      "0       This is an example.           4\n",
      "1        Python programming           2\n",
      "2  Data Science is awesome!           4\n"
     ]
    }
   ],
   "source": [
    "import pandas as pd\n",
    "\n",
    "def add_word_count_column(df):\n",
    "    # Create a new 'Word_Count' column by applying a lambda function to count words in each row\n",
    "    df['Word_Count'] = df['Text'].apply(lambda x: len(str(x).split()))\n",
    "\n",
    "# Example usage:\n",
    "# Assuming 'df' is your DataFrame with the 'Text' column\n",
    "df = pd.DataFrame({'Text': ['This is an example.', 'Python programming', 'Data Science is awesome!']})\n",
    "\n",
    "# Call the function to add the 'Word_Count' column\n",
    "add_word_count_column(df)\n",
    "\n",
    "# Display the updated DataFrame\n",
    "print(df)"
   ]
  },
  {
   "cell_type": "markdown",
   "id": "a0b2f7c5",
   "metadata": {},
   "source": [
    "### Q5. How are DataFrame.size() and DataFrame.shape() different?"
   ]
  },
  {
   "cell_type": "markdown",
   "id": "4594fd8e",
   "metadata": {},
   "source": [
    "DataFrame.size:\n",
    "\n",
    "DataFrame.size returns the total number of elements in the DataFrame, which is equal to the product of the number of rows and columns.\n",
    "It provides the total count of cells (entries) in the DataFrame, including all the rows and columns."
   ]
  },
  {
   "cell_type": "code",
   "execution_count": 5,
   "id": "7e181983",
   "metadata": {},
   "outputs": [
    {
     "name": "stdout",
     "output_type": "stream",
     "text": [
      "6\n"
     ]
    }
   ],
   "source": [
    "import pandas as pd\n",
    "\n",
    "df = pd.DataFrame({'A': [1, 2, 3], 'B': [4, 5, 6]})\n",
    "size_of_dataframe = df.size\n",
    "print(size_of_dataframe)"
   ]
  },
  {
   "cell_type": "markdown",
   "id": "6a40a498",
   "metadata": {},
   "source": [
    "DataFrame.shape:\n",
    "\n",
    "DataFrame.shape returns a tuple representing the dimensions of the DataFrame.\n",
    "The tuple consists of two values - the number of rows and the number of columns in the DataFrame."
   ]
  },
  {
   "cell_type": "code",
   "execution_count": 6,
   "id": "9755ac78",
   "metadata": {},
   "outputs": [
    {
     "name": "stdout",
     "output_type": "stream",
     "text": [
      "(3, 2)\n"
     ]
    }
   ],
   "source": [
    "import pandas as pd\n",
    "\n",
    "df = pd.DataFrame({'A': [1, 2, 3], 'B': [4, 5, 6]})\n",
    "shape_of_dataframe = df.shape\n",
    "print(shape_of_dataframe)"
   ]
  },
  {
   "cell_type": "markdown",
   "id": "69c39e4b",
   "metadata": {},
   "source": [
    "### Q6. Which function of pandas do we use to read an excel file?"
   ]
  },
  {
   "cell_type": "code",
   "execution_count": null,
   "id": "999e3ada",
   "metadata": {},
   "outputs": [],
   "source": [
    "import pandas as pd\n",
    "\n",
    "# Assuming you have an Excel file named 'example.xlsx' with a sheet named 'Sheet1'\n",
    "df = pd.read_excel('example.xlsx', sheet_name='Sheet1')\n",
    "\n",
    "# Now, 'df' is a DataFrame containing the data from the Excel file\n",
    "print(df)"
   ]
  },
  {
   "cell_type": "markdown",
   "id": "5e9cf150",
   "metadata": {},
   "source": [
    "### Q7. You have a Pandas DataFrame df that contains a column named 'Email' that contains email addresses in the format 'username@domain.com'. Write a Python function that creates a new column 'Username' in df that contains only the username part of each email address. The username is the part of the email address that appears before the '@' symbol. For example, if the email address is 'john.doe@example.com', the 'Username' column should contain 'john.doe'. Your function should extract the username from each email address and store it in the new 'Username' column."
   ]
  },
  {
   "cell_type": "code",
   "execution_count": 9,
   "id": "a2afb79a",
   "metadata": {},
   "outputs": [
    {
     "name": "stdout",
     "output_type": "stream",
     "text": [
      "                     Email     Username\n",
      "0     john.doe@example.com     john.doe\n",
      "1  alice.smith@example.com  alice.smith\n",
      "2    bob.jones@example.com    bob.jones\n"
     ]
    }
   ],
   "source": [
    "import pandas as pd\n",
    "\n",
    "def extract_username(df):\n",
    "    # Extract the username part from the 'Email' column and create a new 'Username' column\n",
    "    df['Username'] = df['Email'].str.split('@').str[0]\n",
    "\n",
    "# Example usage:\n",
    "# Assuming 'df' is your DataFrame with the 'Email' column\n",
    "df = pd.DataFrame({'Email': ['john.doe@example.com', 'alice.smith@example.com', 'bob.jones@example.com']})\n",
    "\n",
    "# Call the function to add the 'Username' column\n",
    "extract_username(df)\n",
    "\n",
    "# Display the updated DataFrame\n",
    "print(df)"
   ]
  },
  {
   "cell_type": "raw",
   "id": "ea93b794",
   "metadata": {},
   "source": [
    "Q8. You have a Pandas DataFrame df with columns 'A', 'B', and 'C'. Write a Python function that selects all rows where the value in column 'A' is greater than 5 and the value in column 'B' is less than 10. The function should return a new DataFrame that contains only the selected rows. For example, if df contains the following values:\n",
    "A B C\n",
    "0 3 5 1\n",
    "1 8 2 7\n",
    "2 6 9 4\n",
    "3 2 3 5\n",
    "4 9 1 2\n",
    "Your function should select the following rows: A B C\n",
    "1 8 2 7\n",
    "4 9 1 2\n",
    "The function should return a new DataFrame that contains only the selected rows."
   ]
  },
  {
   "cell_type": "code",
   "execution_count": 10,
   "id": "56572591",
   "metadata": {},
   "outputs": [
    {
     "name": "stdout",
     "output_type": "stream",
     "text": [
      "   A  B  C\n",
      "1  8  2  7\n",
      "2  6  9  4\n",
      "4  9  1  2\n"
     ]
    }
   ],
   "source": [
    "import pandas as pd\n",
    "\n",
    "def select_rows(df):\n",
    "    # Use boolean indexing to select rows based on the conditions\n",
    "    selected_rows = df[(df['A'] > 5) & (df['B'] < 10)]\n",
    "    \n",
    "    return selected_rows\n",
    "\n",
    "# Example usage:\n",
    "# Assuming 'df' is your DataFrame with columns 'A', 'B', and 'C'\n",
    "df = pd.DataFrame({'A': [3, 8, 6, 2, 9],\n",
    "                   'B': [5, 2, 9, 3, 1],\n",
    "                   'C': [1, 7, 4, 5, 2]})\n",
    "\n",
    "# Call the function to select rows\n",
    "selected_df = select_rows(df)\n",
    "\n",
    "# Display the selected DataFrame\n",
    "print(selected_df)"
   ]
  },
  {
   "cell_type": "markdown",
   "id": "1795bc31",
   "metadata": {},
   "source": [
    "### Q9. Given a Pandas DataFrame df with a column 'Values', write a Python function to calculate the mean, median, and standard deviation of the values in the 'Values' column."
   ]
  },
  {
   "cell_type": "code",
   "execution_count": 11,
   "id": "0168c702",
   "metadata": {},
   "outputs": [
    {
     "name": "stdout",
     "output_type": "stream",
     "text": [
      "Mean: 30.0\n",
      "Median: 30.0\n",
      "Standard Deviation: 15.811388300841896\n"
     ]
    }
   ],
   "source": [
    "import pandas as pd\n",
    "\n",
    "def calculate_statistics(df):\n",
    "    # Calculate mean, median, and standard deviation of the 'Values' column\n",
    "    mean_value = df['Values'].mean()\n",
    "    median_value = df['Values'].median()\n",
    "    std_deviation = df['Values'].std()\n",
    "\n",
    "    # Return the calculated statistics\n",
    "    return mean_value, median_value, std_deviation\n",
    "\n",
    "# Example usage:\n",
    "# Assuming 'df' is your DataFrame with the 'Values' column\n",
    "df = pd.DataFrame({'Values': [10, 20, 30, 40, 50]})\n",
    "\n",
    "# Call the function to calculate statistics\n",
    "mean_val, median_val, std_dev = calculate_statistics(df)\n",
    "\n",
    "# Display the calculated statistics\n",
    "print(f\"Mean: {mean_val}\")\n",
    "print(f\"Median: {median_val}\")\n",
    "print(f\"Standard Deviation: {std_dev}\")"
   ]
  },
  {
   "cell_type": "markdown",
   "id": "5f897b4d",
   "metadata": {},
   "source": [
    "### Q10. Given a Pandas DataFrame df with a column 'Sales' and a column 'Date', write a Python function to create a new column 'MovingAverage' that contains the moving average of the sales for the past 7 days for each row in the DataFrame. The moving average should be calculated using a window of size 7 and should include the current day."
   ]
  },
  {
   "cell_type": "code",
   "execution_count": 12,
   "id": "deaba22e",
   "metadata": {},
   "outputs": [
    {
     "name": "stdout",
     "output_type": "stream",
     "text": [
      "        Date  Sales  MovingAverage\n",
      "0 2022-01-01     50      50.000000\n",
      "1 2022-01-02     60      55.000000\n",
      "2 2022-01-03     45      51.666667\n",
      "3 2022-01-04     70      56.250000\n",
      "4 2022-01-05     80      61.000000\n",
      "5 2022-01-06     65      61.666667\n",
      "6 2022-01-07     55      60.714286\n",
      "7 2022-01-08     75      64.285714\n",
      "8 2022-01-09     90      68.571429\n",
      "9 2022-01-10     85      74.285714\n"
     ]
    }
   ],
   "source": [
    "import pandas as pd\n",
    "\n",
    "def calculate_moving_average(df):\n",
    "    # Assuming 'Date' column is in datetime format\n",
    "    df['MovingAverage'] = df['Sales'].rolling(window=7, min_periods=1).mean()\n",
    "\n",
    "# Example usage:\n",
    "# Assuming 'df' is your DataFrame with the 'Sales' and 'Date' columns\n",
    "df = pd.DataFrame({\n",
    "    'Date': pd.date_range(start='2022-01-01', periods=10),\n",
    "    'Sales': [50, 60, 45, 70, 80, 65, 55, 75, 90, 85]\n",
    "})\n",
    "\n",
    "# Call the function to calculate moving average\n",
    "calculate_moving_average(df)\n",
    "\n",
    "# Display the updated DataFrame\n",
    "print(df)"
   ]
  },
  {
   "cell_type": "markdown",
   "id": "3ea55df4",
   "metadata": {},
   "source": [
    "### Q11. You have a Pandas DataFrame df with a column 'Date'. Write a Python function that creates a new column 'Weekday' in the DataFrame. The 'Weekday' column should contain the weekday name (e.g. Monday, Tuesday) corresponding to each date in the 'Date' column."
   ]
  },
  {
   "cell_type": "code",
   "execution_count": 13,
   "id": "5335bc7d",
   "metadata": {},
   "outputs": [
    {
     "name": "stdout",
     "output_type": "stream",
     "text": [
      "        Date    Weekday\n",
      "0 2022-01-01   Saturday\n",
      "1 2022-01-02     Sunday\n",
      "2 2022-01-03     Monday\n",
      "3 2022-01-04    Tuesday\n",
      "4 2022-01-05  Wednesday\n"
     ]
    }
   ],
   "source": [
    "import pandas as pd\n",
    "\n",
    "def add_weekday_column(df):\n",
    "    # Assuming 'Date' column is in datetime format\n",
    "    df['Weekday'] = df['Date'].dt.day_name()\n",
    "\n",
    "# Example usage:\n",
    "# Assuming 'df' is your DataFrame with the 'Date' column\n",
    "df = pd.DataFrame({\n",
    "    'Date': pd.date_range(start='2022-01-01', periods=5)\n",
    "})\n",
    "\n",
    "# Call the function to add the 'Weekday' column\n",
    "add_weekday_column(df)\n",
    "\n",
    "# Display the updated DataFrame\n",
    "print(df)"
   ]
  },
  {
   "cell_type": "markdown",
   "id": "3d4ba504",
   "metadata": {},
   "source": [
    "### Q12. Given a Pandas DataFrame df with a column 'Date' that contains timestamps, write a Python function to select all rows where the date is between '2023-01-01' and '2023-01-31'."
   ]
  },
  {
   "cell_type": "code",
   "execution_count": 16,
   "id": "146e6096",
   "metadata": {},
   "outputs": [
    {
     "name": "stdout",
     "output_type": "stream",
     "text": [
      "         Date  Value\n",
      "0  2023-01-01     31\n",
      "1  2023-01-02     32\n",
      "2  2023-01-03     33\n",
      "3  2023-01-04     34\n",
      "4  2023-01-05     35\n",
      "5  2023-01-06     36\n",
      "6  2023-01-07     37\n",
      "7  2023-01-08     38\n",
      "8  2023-01-09     39\n",
      "9  2023-01-10     40\n",
      "10 2023-01-11     41\n",
      "11 2023-01-12     42\n",
      "12 2023-01-13     43\n",
      "13 2023-01-14     44\n"
     ]
    }
   ],
   "source": [
    "import pandas as pd\n",
    "\n",
    "def select_rows_in_date_range(df):\n",
    "    # Assuming 'Date' column is in datetime format\n",
    "    start_date = '2023-01-01'\n",
    "    end_date = '2023-01-31'\n",
    "\n",
    "    # Use boolean indexing to select rows within the specified date range\n",
    "    selected_rows = df[(df['Date'] >= start_date) & (df['Date'] <= end_date)].reset_index(drop=True)\n",
    "\n",
    "    return selected_rows\n",
    "\n",
    "# Example usage:\n",
    "# Assuming 'df' is your DataFrame with the 'Date' column\n",
    "date_range = pd.date_range(start='2022-12-01', end='2023-02-28', freq='D')\n",
    "df = pd.DataFrame({\n",
    "    'Date': date_range[:len(date_range)//2],  # Ensure both arrays have the same length\n",
    "    'Value': range(len(date_range)//2)\n",
    "})\n",
    "\n",
    "# Call the function to select rows in the specified date range\n",
    "selected_df = select_rows_in_date_range(df)\n",
    "\n",
    "# Display the selected DataFrame\n",
    "print(selected_df)"
   ]
  },
  {
   "cell_type": "markdown",
   "id": "9cbb4fa4",
   "metadata": {},
   "source": [
    "### Q13. To use the basic functions of pandas, what is the first and foremost necessary library that needs to be imported?"
   ]
  },
  {
   "cell_type": "code",
   "execution_count": 18,
   "id": "d1f14635",
   "metadata": {},
   "outputs": [],
   "source": [
    "import pandas as pd\n",
    "# To use the basic functions of pandas, the first and foremost library that needs to be imported is the pandas library itself. "
   ]
  }
 ],
 "metadata": {
  "kernelspec": {
   "display_name": "Python 3 (ipykernel)",
   "language": "python",
   "name": "python3"
  },
  "language_info": {
   "codemirror_mode": {
    "name": "ipython",
    "version": 3
   },
   "file_extension": ".py",
   "mimetype": "text/x-python",
   "name": "python",
   "nbconvert_exporter": "python",
   "pygments_lexer": "ipython3",
   "version": "3.11.5"
  }
 },
 "nbformat": 4,
 "nbformat_minor": 5
}
