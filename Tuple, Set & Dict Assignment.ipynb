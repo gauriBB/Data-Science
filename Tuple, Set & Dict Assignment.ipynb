{
 "cells": [
  {
   "cell_type": "markdown",
   "id": "ad3f6eee",
   "metadata": {},
   "source": [
    "##### Q1. What are the characteristics of the tuples? Is tuple immutable?"
   ]
  },
  {
   "cell_type": "markdown",
   "id": "542ec8a1",
   "metadata": {},
   "source": [
    "ans: tuple items are ordered : items have a defined order, and that order will not change.,\n",
    "unchangable ie immutable :we cannot change, add or remove items after the tuple has been created.\n",
    "and it allows duplicates: Since tuples are indexed, they can have items with the same value\n",
    "yes, tuples are immutable"
   ]
  },
  {
   "cell_type": "markdown",
   "id": "2a322070",
   "metadata": {},
   "source": [
    "##### Q2. What are the two tuple methods in python? Give an example of each method. Give a reason why tuples have only two in-built methods as compared to Lists."
   ]
  },
  {
   "cell_type": "markdown",
   "id": "e75096b2",
   "metadata": {},
   "source": [
    "ans : \n",
    "count(): This method returns the number of occurrences of a specified value in a tuple. \n",
    "index(): This method returns the index of the first occurrence of a specified value in a tuple. \n",
    "  Tuples have only these two built-in methods compared to lists because tuples are designed to be immutable, while lists are mutable. The limited number of methods for tuples reflects their immutability. Since tuples cannot be modified, there is no need for methods like append(), insert(), or remove() that modify the tuple in-place, which are available for lists. The simplicity of tuples makes them efficient for storing collections of values that shouldn't change."
   ]
  },
  {
   "cell_type": "markdown",
   "id": "12de628c",
   "metadata": {},
   "source": [
    "####Q3  Which collection datatypes in python do not allow duplicate items? Write a code using a set to remove duplicates from the given list.\n",
    "List = [1, 1, 1, 2, 1, 3, 1, 4, 2, 1, 2, 2, 2, 3, 2, 4, 3, 1, 3, 2, 3, 3, 3, 4, 4, 1, 4, 2, 4, 3, 4, 4]"
   ]
  },
  {
   "cell_type": "code",
   "execution_count": 1,
   "id": "a33faa59",
   "metadata": {},
   "outputs": [
    {
     "name": "stdout",
     "output_type": "stream",
     "text": [
      "[1, 2, 3, 4]\n"
     ]
    }
   ],
   "source": [
    "List = [1, 1, 1, 2, 1, 3, 1, 4, 2, 1, 2, 2, 2, 3, 2, 4, 3, 1, 3, 2, 3, 3, 3, 4, 4, 1, 4, 2, 4, 3, 4, 4]\n",
    "\n",
    "#ans:  The collection datatype in Python that does not allow duplicate items is the set. Sets are unordered collections of unique elements.\n",
    "# CODE USING SET TO REMOVE DUPLICATE\n",
    "List1 = list(set(List))\n",
    "print(List1)"
   ]
  },
  {
   "cell_type": "markdown",
   "id": "e4e93019",
   "metadata": {},
   "source": [
    "#### Q4. Explain the difference between the union() and update() methods for a set. Give an example of each method.\n"
   ]
  },
  {
   "cell_type": "markdown",
   "id": "5f70dd6a",
   "metadata": {},
   "source": [
    "ANS::update() adds all missing elements to the set on which it is called whereas set. union() creates a new set\n",
    "consequently, the return value of set.update() is None (with side effects)\n",
    "and the return value of set.union() is a set (without side effects).\n",
    "example:"
   ]
  },
  {
   "cell_type": "code",
   "execution_count": 5,
   "id": "d54a6cbd",
   "metadata": {},
   "outputs": [
    {
     "data": {
      "text/plain": [
       "{1, 2, 3, 4, 5}"
      ]
     },
     "execution_count": 5,
     "metadata": {},
     "output_type": "execute_result"
    }
   ],
   "source": [
    "s = {1, 2, 3}\n",
    "s.update({4, 5})\n",
    "s"
   ]
  },
  {
   "cell_type": "markdown",
   "id": "958f2837",
   "metadata": {},
   "source": [
    "The original set s is modeified and now contains five elements after the update."
   ]
  },
  {
   "cell_type": "code",
   "execution_count": 8,
   "id": "f8adc794",
   "metadata": {},
   "outputs": [
    {
     "name": "stdout",
     "output_type": "stream",
     "text": [
      "{1, 2, 3, 4, 5}\n"
     ]
    },
    {
     "data": {
      "text/plain": [
       "{1, 2, 3}"
      ]
     },
     "execution_count": 8,
     "metadata": {},
     "output_type": "execute_result"
    }
   ],
   "source": [
    "s = {1,2,3}\n",
    "a = s.union({4,5})\n",
    "print(a)\n",
    "s"
   ]
  },
  {
   "cell_type": "markdown",
   "id": "8baf1bdd",
   "metadata": {},
   "source": [
    "both sets remain unchanged. However, a new set has been created "
   ]
  },
  {
   "cell_type": "markdown",
   "id": "72af6075",
   "metadata": {},
   "source": [
    "#### Q 5 :What is a dictionary? Give an example. Also, state whether a dictionary is ordered or unordered.\n"
   ]
  },
  {
   "cell_type": "markdown",
   "id": "1e0facd6",
   "metadata": {},
   "source": [
    "Answer: Dictionaries are mutable data structures that allow you to store key-value pairs.Dictionary can be created using dict() constructor or curly braces'{}'. Once you created dictionary, you can add, remove, or update elements. Dictionaries are unordered.\n"
   ]
  },
  {
   "cell_type": "code",
   "execution_count": 2,
   "id": "ecaa7a6c",
   "metadata": {},
   "outputs": [
    {
     "name": "stdout",
     "output_type": "stream",
     "text": [
      "{'brand': 'Samsung', 'model': 'galaxyA20', 'year': 2016}\n"
     ]
    }
   ],
   "source": [
    "mobile = {\"brand\": \"Samsung\", \"model\": \"galaxyA20\", \"year\":2016}\n",
    "print(mobile)"
   ]
  },
  {
   "cell_type": "markdown",
   "id": "e90caa03",
   "metadata": {},
   "source": [
    "##### Q6 Can we create a nested dictionary? If so, please give an example by creating a simple one-level nested dictionary."
   ]
  },
  {
   "cell_type": "markdown",
   "id": "d1156329",
   "metadata": {},
   "source": [
    "A nested dictionary is a dictionary inside a dictionary"
   ]
  },
  {
   "cell_type": "code",
   "execution_count": 4,
   "id": "6d1133a9",
   "metadata": {},
   "outputs": [
    {
     "name": "stdout",
     "output_type": "stream",
     "text": [
      "{1: {'name': 'abc', 'age': '27', 'sex': 'Male'}, 2: {'name': 'pqr', 'age': '25', 'sex': 'Female'}}\n"
     ]
    }
   ],
   "source": [
    "people = {1:{\"name\":\"abc\", \"age\": '27', \"sex\": \"Male\"}, 2:{\"name\": \"pqr\",\"age\":\"25\",\"sex\":\"Female\"}}\n",
    "print(people)"
   ]
  },
  {
   "cell_type": "markdown",
   "id": "1ac25082",
   "metadata": {},
   "source": [
    "#####  Q7. Using setdefault() method, create key named topics in the given dictionary and also add the value of\n",
    "the key as this list ['Python', 'Machine Learning’, 'Deep Learning']\n",
    "dict1 = {'language' : 'Python', 'course': 'Data Science Masters'}"
   ]
  },
  {
   "cell_type": "code",
   "execution_count": 5,
   "id": "ced05ab7",
   "metadata": {},
   "outputs": [
    {
     "name": "stdout",
     "output_type": "stream",
     "text": [
      "{'language': 'Python', 'course': 'Data Science Masters', 'topics': ['Python', 'Machine Learning', 'Deep Learning']}\n"
     ]
    }
   ],
   "source": [
    "dict1 = {'language' : 'Python', 'course': 'Data Science Masters'}\n",
    "dict1.setdefault('topics',['Python', 'Machine Learning', 'Deep Learning'])\n",
    "print(dict1)\n"
   ]
  },
  {
   "cell_type": "markdown",
   "id": "cae54ab6",
   "metadata": {},
   "source": [
    "##### Q8. What are the three view objects in dictionaries? Use the three in-built methods in python to display these three view objects for the given dictionary.\n",
    "dict1 = {'Sport': 'Cricket' , 'Teams': ['India', 'Australia', 'England', 'South Africa', 'Sri Lanka', 'New Zealand']}"
   ]
  },
  {
   "cell_type": "code",
   "execution_count": 6,
   "id": "50e4dc70",
   "metadata": {},
   "outputs": [
    {
     "name": "stdout",
     "output_type": "stream",
     "text": [
      "dict_keys view object: dict_keys(['Sport', 'Teams'])\n",
      "dict_values view object: dict_values(['Cricket', ['India', 'Australia', 'England', 'South Africa', 'Sri Lanka', 'New Zealand']])\n",
      "dict_items view object: dict_items([('Sport', 'Cricket'), ('Teams', ['India', 'Australia', 'England', 'South Africa', 'Sri Lanka', 'New Zealand'])])\n"
     ]
    }
   ],
   "source": [
    "dict1 = {'Sport': 'Cricket', 'Teams': ['India', 'Australia', 'England', 'South Africa', 'Sri Lanka', 'New Zealand']}\n",
    "\n",
    "keys_view = dict1.keys()\n",
    "values_view = dict1.values()\n",
    "items_view = dict1.items()\n",
    "\n",
    "print(\"dict_keys view object:\", keys_view)\n",
    "print(\"dict_values view object:\", values_view)\n",
    "print(\"dict_items view object:\", items_view)\n"
   ]
  },
  {
   "cell_type": "code",
   "execution_count": null,
   "id": "6af0b96c",
   "metadata": {},
   "outputs": [],
   "source": []
  }
 ],
 "metadata": {
  "kernelspec": {
   "display_name": "Python 3 (ipykernel)",
   "language": "python",
   "name": "python3"
  },
  "language_info": {
   "codemirror_mode": {
    "name": "ipython",
    "version": 3
   },
   "file_extension": ".py",
   "mimetype": "text/x-python",
   "name": "python",
   "nbconvert_exporter": "python",
   "pygments_lexer": "ipython3",
   "version": "3.12.7"
  }
 },
 "nbformat": 4,
 "nbformat_minor": 5
}
