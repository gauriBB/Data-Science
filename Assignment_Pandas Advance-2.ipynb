{
 "cells": [
  {
   "cell_type": "code",
   "execution_count": 3,
   "id": "494826c4",
   "metadata": {},
   "outputs": [],
   "source": [
    "#Consider following code to answer further questions:\n",
    "import pandas as pd\n",
    "course_name = ['Data Science', 'Machine Learning', 'Big Data', 'Data Engineer']\n",
    "duration = [2,3,6,4]\n",
    "df = pd.DataFrame(data = {'course_name' : course_name, 'duration' : duration})"
   ]
  },
  {
   "cell_type": "markdown",
   "id": "970231c2",
   "metadata": {},
   "source": [
    "### Q1. Write a code to print the data present in the second row of the dataframe, df."
   ]
  },
  {
   "cell_type": "code",
   "execution_count": 4,
   "id": "f7c6bf07",
   "metadata": {},
   "outputs": [
    {
     "name": "stdout",
     "output_type": "stream",
     "text": [
      "A    2\n",
      "B    5\n",
      "C    8\n",
      "Name: 1, dtype: int64\n"
     ]
    }
   ],
   "source": [
    "import pandas as pd\n",
    "\n",
    "# Assuming 'df' is your DataFrame\n",
    "df = pd.DataFrame({\n",
    "    'A': [1, 2, 3],\n",
    "    'B': [4, 5, 6],\n",
    "    'C': [7, 8, 9]\n",
    "})\n",
    "\n",
    "# Print data in the second row\n",
    "second_row_data = df.iloc[1]\n",
    "print(second_row_data)"
   ]
  },
  {
   "cell_type": "markdown",
   "id": "d2250f1f",
   "metadata": {},
   "source": [
    "### Q2. What is the difference between the functions loc and iloc in pandas.DataFrame?"
   ]
  },
  {
   "cell_type": "raw",
   "id": "6bbd367a",
   "metadata": {},
   "source": [
    "1.loc (Label-based Indexing):\n",
    "loc is primarily label-based indexing. It is used to access a group of rows and columns by labels or a boolean array.\n",
    "The syntax for loc is df.loc[row_label, column_label].\n",
    "It includes the last element when slicing, similar to standard Python slicing.\n",
    "It can accept labels for both rows and columns."
   ]
  },
  {
   "cell_type": "code",
   "execution_count": 5,
   "id": "73897393",
   "metadata": {},
   "outputs": [
    {
     "name": "stdout",
     "output_type": "stream",
     "text": [
      "5\n"
     ]
    }
   ],
   "source": [
    "import pandas as pd\n",
    "\n",
    "# Assuming 'df' is your DataFrame\n",
    "df = pd.DataFrame({\n",
    "    'A': [1, 2, 3],\n",
    "    'B': [4, 5, 6],\n",
    "    'C': [7, 8, 9]\n",
    "})\n",
    "\n",
    "# Using loc to access specific rows and columns by labels\n",
    "selected_data = df.loc[1, 'B']\n",
    "print(selected_data)"
   ]
  },
  {
   "cell_type": "raw",
   "id": "9eb06d9f",
   "metadata": {},
   "source": [
    "2.iloc (Integer-based Indexing):\n",
    "iloc is primarily integer-based indexing. It is used to access a group of rows and columns by integer position.\n",
    "The syntax for iloc is df.iloc[row_index, column_index].\n",
    "It excludes the last element when slicing, similar to standard Python indexing.\n",
    "It accepts integer positions for both rows and columns."
   ]
  },
  {
   "cell_type": "code",
   "execution_count": 6,
   "id": "593f9998",
   "metadata": {},
   "outputs": [
    {
     "name": "stdout",
     "output_type": "stream",
     "text": [
      "5\n"
     ]
    }
   ],
   "source": [
    "import pandas as pd\n",
    "\n",
    "# Assuming 'df' is your DataFrame\n",
    "df = pd.DataFrame({\n",
    "    'A': [1, 2, 3],\n",
    "    'B': [4, 5, 6],\n",
    "    'C': [7, 8, 9]\n",
    "})\n",
    "\n",
    "# Using iloc to access specific rows and columns by integer positions\n",
    "selected_data = df.iloc[1, 1]\n",
    "print(selected_data)"
   ]
  },
  {
   "cell_type": "markdown",
   "id": "059a0d81",
   "metadata": {},
   "source": [
    "### Q3. Reindex the given dataframe using a variable, reindex = [3,0,1,2] and store it in the variable, new_df then find the output for both new_df.loc[2] and new_df.iloc[2]. Did you observe any difference in both the outputs? If so then explain it. Consider the below code to answer further questions:\n",
    "import pandas as pd\n",
    "import numpy as np\n",
    "columns = ['column_1', 'column_2', 'column_3', 'column_4', 'column_5', 'column_6']\n",
    "indices = [1,2,3,4,5,6]\n",
    "#Creating a dataframe:\n",
    "df1 = pd.DataFrame(np.random.rand(6,6), columns = columns, index = indices)"
   ]
  },
  {
   "cell_type": "code",
   "execution_count": 7,
   "id": "bc538812",
   "metadata": {},
   "outputs": [
    {
     "name": "stdout",
     "output_type": "stream",
     "text": [
      "Reindexed DataFrame:\n",
      "   column_1  column_2  column_3  column_4  column_5  column_6\n",
      "3  0.659352  0.689042  0.611496  0.675689  0.955918  0.569601\n",
      "0       NaN       NaN       NaN       NaN       NaN       NaN\n",
      "1  0.158737  0.224943  0.889189  0.817651  0.259664  0.846270\n",
      "2  0.574918  0.765039  0.309763  0.350418  0.105984  0.011894\n",
      "\n",
      "Output for new_df.loc[2]:\n",
      "column_1    0.574918\n",
      "column_2    0.765039\n",
      "column_3    0.309763\n",
      "column_4    0.350418\n",
      "column_5    0.105984\n",
      "column_6    0.011894\n",
      "Name: 2, dtype: float64\n",
      "\n",
      "Output for new_df.iloc[2]:\n",
      "column_1    0.158737\n",
      "column_2    0.224943\n",
      "column_3    0.889189\n",
      "column_4    0.817651\n",
      "column_5    0.259664\n",
      "column_6    0.846270\n",
      "Name: 1, dtype: float64\n"
     ]
    }
   ],
   "source": [
    "import pandas as pd\n",
    "import numpy as np\n",
    "\n",
    "# Creating a DataFrame\n",
    "columns = ['column_1', 'column_2', 'column_3', 'column_4', 'column_5', 'column_6']\n",
    "indices = [1, 2, 3, 4, 5, 6]\n",
    "df1 = pd.DataFrame(np.random.rand(6, 6), columns=columns, index=indices)\n",
    "\n",
    "# Reindexing\n",
    "reindex_order = [3, 0, 1, 2]\n",
    "new_df = df1.reindex(reindex_order)\n",
    "\n",
    "# Display the new DataFrame\n",
    "print(\"Reindexed DataFrame:\")\n",
    "print(new_df)\n",
    "\n",
    "# Output for new_df.loc[2]\n",
    "print(\"\\nOutput for new_df.loc[2]:\")\n",
    "print(new_df.loc[2])\n",
    "\n",
    "# Output for new_df.iloc[2]\n",
    "print(\"\\nOutput for new_df.iloc[2]:\")\n",
    "print(new_df.iloc[2])"
   ]
  },
  {
   "cell_type": "markdown",
   "id": "85a6621c",
   "metadata": {},
   "source": [
    "1. new_df.loc[2]:\n",
    "This uses label-based indexing. In this case, 2 is treated as a label.\n",
    "Since the DataFrame was reindexed with [3, 0, 1, 2], the label 2 corresponds to the row originally at index 1 in the original DataFrame (df1).\n",
    "The output will be the row with label 2 from the reindexed DataFrame.\n",
    "2. new_df.iloc[2]:\n",
    "This uses integer-based indexing. In this case, 2 is treated as an integer position.\n",
    "Since the DataFrame was reindexed, the integer position 2 corresponds to the row originally at index 1 in the reindexed DataFrame.\n",
    "The output will be the row at integer position 2 in the reindexed DataFrame."
   ]
  },
  {
   "cell_type": "markdown",
   "id": "167c8ddf",
   "metadata": {},
   "source": [
    "### Q4. Write a code to find the following statistical measurements for the above dataframe df1:\n",
    "(i) mean of each and every column present in the dataframe.\n",
    "(ii) standard deviation of column, ‘column_2’"
   ]
  },
  {
   "cell_type": "code",
   "execution_count": 8,
   "id": "5b6614cb",
   "metadata": {},
   "outputs": [
    {
     "name": "stdout",
     "output_type": "stream",
     "text": [
      "Mean of each column:\n",
      "column_1    0.584348\n",
      "column_2    0.392863\n",
      "column_3    0.457915\n",
      "column_4    0.671623\n",
      "column_5    0.642239\n",
      "column_6    0.569558\n",
      "dtype: float64\n",
      "\n",
      "Standard deviation of 'column_2': 0.17313909016680948\n"
     ]
    }
   ],
   "source": [
    "import pandas as pd\n",
    "import numpy as np\n",
    "\n",
    "# Creating a DataFrame\n",
    "columns = ['column_1', 'column_2', 'column_3', 'column_4', 'column_5', 'column_6']\n",
    "indices = [1, 2, 3, 4, 5, 6]\n",
    "df1 = pd.DataFrame(np.random.rand(6, 6), columns=columns, index=indices)\n",
    "\n",
    "# (i) Mean of each and every column\n",
    "column_means = df1.mean()\n",
    "print(\"Mean of each column:\")\n",
    "print(column_means)\n",
    "\n",
    "# (ii) Standard deviation of 'column_2'\n",
    "std_column_2 = df1['column_2'].std()\n",
    "print(\"\\nStandard deviation of 'column_2':\", std_column_2)"
   ]
  },
  {
   "cell_type": "markdown",
   "id": "fc4ee1de",
   "metadata": {},
   "source": [
    "### Q5. Replace the data present in the second row of column, ‘column_2’ by a string variable then find the mean of column, column_2. If you are getting errors in executing it then explain why.\n",
    "[Hint: To replace the data use df1.loc[] and equate this to string data of your choice.]"
   ]
  },
  {
   "cell_type": "markdown",
   "id": "8348e2ef",
   "metadata": {},
   "source": [
    "If you attempt to replace the data in a numerical column with a string value, you are likely to encounter an error, as pandas expects consistent data types within a column. The mean function, which calculates the mean of numerical values, would encounter difficulties when dealing with a mixture of numerical and string values."
   ]
  },
  {
   "cell_type": "code",
   "execution_count": 9,
   "id": "e08510cc",
   "metadata": {},
   "outputs": [
    {
     "name": "stdout",
     "output_type": "stream",
     "text": [
      "Original DataFrame:\n",
      "   column_1  column_2  column_3  column_4  column_5  column_6\n",
      "1  0.333509  0.632574  0.922098  0.341016  0.831113  0.073373\n",
      "2  0.406515  0.980595  0.097506  0.451464  0.768849  0.623486\n",
      "3  0.718032  0.400129  0.742451  0.440317  0.654089  0.067552\n",
      "4  0.445145  0.285008  0.450031  0.817013  0.929366  0.000261\n",
      "5  0.911465  0.004064  0.904345  0.927487  0.933429  0.814713\n",
      "6  0.247536  0.510009  0.551708  0.908206  0.426011  0.432927\n",
      "\n",
      "Error: unsupported operand type(s) for +: 'float' and 'str'\n"
     ]
    }
   ],
   "source": [
    "import pandas as pd\n",
    "import numpy as np\n",
    "\n",
    "# Creating a DataFrame\n",
    "columns = ['column_1', 'column_2', 'column_3', 'column_4', 'column_5', 'column_6']\n",
    "indices = [1, 2, 3, 4, 5, 6]\n",
    "df1 = pd.DataFrame(np.random.rand(6, 6), columns=columns, index=indices)\n",
    "\n",
    "# Display the original DataFrame\n",
    "print(\"Original DataFrame:\")\n",
    "print(df1)\n",
    "\n",
    "# Replace the data in the second row of 'column_2' with a string value\n",
    "replacement_string = \"example_string\"\n",
    "df1.loc[2, 'column_2'] = replacement_string\n",
    "\n",
    "# Try to calculate the mean of 'column_2'\n",
    "try:\n",
    "    mean_column_2 = df1['column_2'].mean()\n",
    "    print(\"\\nMean of 'column_2':\", mean_column_2)\n",
    "except Exception as e:\n",
    "    print(\"\\nError:\", e)"
   ]
  },
  {
   "cell_type": "markdown",
   "id": "d5e40c5e",
   "metadata": {},
   "source": [
    "To avoid errors, it's essential to maintain consistent data types within a column, especially when performing numerical operations such as calculating the mean. If you need to replace values with a string, consider using a column with a dtype that supports both numerical and string values (e.g., object dtype) or converting the column to a suitable data type before performing numerical operations."
   ]
  },
  {
   "cell_type": "markdown",
   "id": "b6472036",
   "metadata": {},
   "source": [
    "### Q6. What do you understand about the windows function in pandas and list the types of windows functions?"
   ]
  },
  {
   "cell_type": "markdown",
   "id": "74a6639c",
   "metadata": {},
   "source": [
    "In pandas, window functions are a powerful feature that allows you to perform operations on a specified set of data points within a moving or fixed window. These functions are particularly useful for time-series data or other ordered data where you want to compute statistics over a rolling or expanding window.\n",
    "The general syntax for window functions in pandas involves using the rolling() or expanding() method on a Series or DataFrame followed by an aggregation function. Here are the main types of window functions:\n",
    "1. Rolling Functions:\n",
    "rolling(window, min_periods=None, center=False, win_type=None, on=None, axis=0, closed=None): Provides rolling view of data.\n",
    "Common rolling functions include:\n",
    "mean(): Calculates the rolling mean.\n",
    "sum(): Calculates the rolling sum.\n",
    "std(): Calculates the rolling standard deviation.\n",
    "min(), max(): Calculates the rolling minimum and maximum.\n",
    "count(): Counts the number of non-null values in the rolling window."
   ]
  },
  {
   "cell_type": "code",
   "execution_count": null,
   "id": "238c6392",
   "metadata": {},
   "outputs": [],
   "source": [
    "import pandas as pd\n",
    "# Assuming 'df' is your DataFrame\n",
    "df['rolling_mean'] = df['column'].rolling(window=3).mean()"
   ]
  },
  {
   "cell_type": "code",
   "execution_count": null,
   "id": "bec31d90",
   "metadata": {},
   "outputs": [],
   "source": [
    "2. Expanding Functions:\n",
    "expanding(min_periods=1, axis=0, method='single'): Provides expanding view of data.\n",
    "Common expanding functions include:\n",
    "mean(): Calculates the expanding mean.\n",
    "sum(): Calculates the expanding sum.\n",
    "std(): Calculates the expanding standard deviation.\n",
    "min(), max(): Calculates the expanding minimum and maximum.\n",
    "count(): Counts the number of non-null values in the expanding window."
   ]
  },
  {
   "cell_type": "code",
   "execution_count": null,
   "id": "32bedb5f",
   "metadata": {},
   "outputs": [],
   "source": [
    "import pandas as pd\n",
    "# Assuming 'df' is your DataFrame\n",
    "df['expanding_mean'] = df['column'].expanding().mean()"
   ]
  },
  {
   "cell_type": "code",
   "execution_count": null,
   "id": "defbfc95",
   "metadata": {},
   "outputs": [],
   "source": [
    "3. Exponential Moving Window Functions:\n",
    "ewm(alpha=None, beta=None, min_periods=1, adjust=True, ignore_na=False, axis=0): Provides exponential moving window statistics.\n",
    "Common exponential moving window functions include:\n",
    "mean(): Calculates the exponentially weighted moving average."
   ]
  },
  {
   "cell_type": "code",
   "execution_count": null,
   "id": "c0352eeb",
   "metadata": {},
   "outputs": [],
   "source": [
    "import pandas as pd\n",
    "# Assuming 'df' is your DataFrame\n",
    "df['ewm_mean'] = df['column'].ewm(span=3).mean()"
   ]
  },
  {
   "cell_type": "markdown",
   "id": "af0db7c3",
   "metadata": {},
   "source": [
    "### Q7. Write a code to print only the current month and year at the time of answering this question.\n",
    "[Hint: Use pandas.datetime function]"
   ]
  },
  {
   "cell_type": "code",
   "execution_count": 11,
   "id": "b86bc961",
   "metadata": {},
   "outputs": [
    {
     "name": "stdout",
     "output_type": "stream",
     "text": [
      "Current Month: 1, Current Year: 2024\n"
     ]
    }
   ],
   "source": [
    "import pandas as pd\n",
    "\n",
    "# Get the current date and time\n",
    "current_datetime = pd.to_datetime('today')\n",
    "\n",
    "# Extract the month and year\n",
    "current_month = current_datetime.month\n",
    "current_year = current_datetime.year\n",
    "\n",
    "# Print the result\n",
    "print(f\"Current Month: {current_month}, Current Year: {current_year}\")"
   ]
  },
  {
   "cell_type": "markdown",
   "id": "3d48c91a",
   "metadata": {},
   "source": [
    "### Q8. Write a Python program that takes in two dates as input (in the format YYYY-MM-DD) and calculates the difference between them in days, hours, and minutes using Pandas time delta. The program should prompt the user to enter the dates and display the result."
   ]
  },
  {
   "cell_type": "code",
   "execution_count": null,
   "id": "726ef738",
   "metadata": {},
   "outputs": [],
   "source": []
  },
  {
   "cell_type": "markdown",
   "id": "b2d545c2",
   "metadata": {},
   "source": [
    "### Q9. Write a Python program that reads a CSV file containing categorical data and converts a specified column to a categorical data type. The program should prompt the user to enter the file path, column name, and category order, and then display the sorted data."
   ]
  },
  {
   "cell_type": "code",
   "execution_count": 13,
   "id": "89e471b6",
   "metadata": {},
   "outputs": [
    {
     "name": "stdout",
     "output_type": "stream",
     "text": [
      "Enter the first date (YYYY-MM-DD): 2024-05-20\n",
      "Enter the second date (YYYY-MM-DD): 2025-05-20\n",
      "\n",
      "Time Difference:\n",
      "Days: 365\n",
      "Hours: 0\n",
      "Minutes: 0\n"
     ]
    }
   ],
   "source": [
    "import pandas as pd\n",
    "\n",
    "def calculate_time_difference(date1, date2):\n",
    "    # Convert input strings to datetime objects\n",
    "    date1 = pd.to_datetime(date1)\n",
    "    date2 = pd.to_datetime(date2)\n",
    "\n",
    "    # Calculate the time difference\n",
    "    time_difference = date2 - date1\n",
    "\n",
    "    # Extract days, hours, and minutes\n",
    "    days_difference = time_difference.days\n",
    "    hours_difference = time_difference.seconds // 3600\n",
    "    minutes_difference = (time_difference.seconds % 3600) // 60\n",
    "\n",
    "    return days_difference, hours_difference, minutes_difference\n",
    "\n",
    "# Get user input for two dates\n",
    "date_input1 = input(\"Enter the first date (YYYY-MM-DD): \")\n",
    "date_input2 = input(\"Enter the second date (YYYY-MM-DD): \")\n",
    "\n",
    "# Call the function to calculate the time difference\n",
    "days_diff, hours_diff, minutes_diff = calculate_time_difference(date_input1, date_input2)\n",
    "\n",
    "# Display the result\n",
    "print(f\"\\nTime Difference:\\nDays: {days_diff}\\nHours: {hours_diff}\\nMinutes: {minutes_diff}\")"
   ]
  },
  {
   "cell_type": "markdown",
   "id": "82becfdc",
   "metadata": {},
   "source": [
    "### Q10. Write a Python program that reads a CSV file containing sales data for different products and visualizes the data using a stacked bar chart to show the sales of each product category over time. The program should prompt the user to enter the file path and display the chart."
   ]
  },
  {
   "cell_type": "code",
   "execution_count": null,
   "id": "5d3c591e",
   "metadata": {},
   "outputs": [],
   "source": [
    "import pandas as pd\n",
    "import matplotlib.pyplot as plt\n",
    "\n",
    "def visualize_sales_data(file_path):\n",
    "    # Read the CSV file into a DataFrame\n",
    "    try:\n",
    "        df = pd.read_csv(file_path)\n",
    "    except FileNotFoundError:\n",
    "        print(\"File not found. Please enter a valid file path.\")\n",
    "        return\n",
    "    except pd.errors.EmptyDataError:\n",
    "        print(\"The file is empty.\")\n",
    "        return\n",
    "    except pd.errors.ParserError:\n",
    "        print(\"Unable to parse the CSV file. Please check the format.\")\n",
    "        return\n",
    "\n",
    "    # Assuming the DataFrame has columns 'Date', 'Category', and 'Sales'\n",
    "    # Make sure to adjust column names based on your actual CSV structure\n",
    "\n",
    "    # Convert the 'Date' column to datetime\n",
    "    df['Date'] = pd.to_datetime(df['Date'])\n",
    "\n",
    "    # Create a stacked bar chart\n",
    "    pivot_df = df.pivot_table(index='Date', columns='Category', values='Sales', aggfunc='sum')\n",
    "    pivot_df.plot(kind='bar', stacked=True, figsize=(10, 6))\n",
    "\n",
    "    # Customize the chart\n",
    "    plt.title('Sales Over Time by Product Category')\n",
    "    plt.xlabel('Date')\n",
    "    plt.ylabel('Sales')\n",
    "    plt.legend(title='Product Category', bbox_to_anchor=(1.05, 1), loc='upper left')\n",
    "\n",
    "    # Show the chart\n",
    "    plt.show()\n",
    "\n",
    "# Prompt the user to enter the file path\n",
    "file_path = input(\"Enter the file path for the CSV file: \")\n",
    "\n",
    "# Call the function to visualize the sales data\n",
    "visualize_sales_data(file_path)"
   ]
  }
 ],
 "metadata": {
  "kernelspec": {
   "display_name": "Python 3 (ipykernel)",
   "language": "python",
   "name": "python3"
  },
  "language_info": {
   "codemirror_mode": {
    "name": "ipython",
    "version": 3
   },
   "file_extension": ".py",
   "mimetype": "text/x-python",
   "name": "python",
   "nbconvert_exporter": "python",
   "pygments_lexer": "ipython3",
   "version": "3.11.5"
  }
 },
 "nbformat": 4,
 "nbformat_minor": 5
}
