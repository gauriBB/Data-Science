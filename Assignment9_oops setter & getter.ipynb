{
 "cells": [
  {
   "cell_type": "markdown",
   "id": "2a8a59c0",
   "metadata": {},
   "source": [
    "#### Q1, Create a vehicle class with an init method having instance variables as name_of_vehicle, max_speed and average_of_vehicle."
   ]
  },
  {
   "cell_type": "code",
   "execution_count": 6,
   "id": "12e5448b",
   "metadata": {},
   "outputs": [
    {
     "name": "stdout",
     "output_type": "stream",
     "text": [
      "car 40 200\n"
     ]
    }
   ],
   "source": [
    "class vehicle:\n",
    "    def __init__(self,name_of_vehicle,max_speed,average_of_vehicle):\n",
    "        self.name_of_vehicle = name_of_vehicle\n",
    "        self.max_speed = max_speed\n",
    "        self.average_of_vehicle = average_of_vehicle \n",
    "#example\n",
    "car = vehicle(\"car\",200,40)\n",
    "print(car.name_of_vehicle,car.average_of_vehicle,car.max_speed)"
   ]
  },
  {
   "cell_type": "markdown",
   "id": "bb5624a7",
   "metadata": {},
   "source": [
    "##### Q2 Create a child class car from the vehicle class created in Que 1, which will inherit the vehicle class. Create a method named seating_capacity which takes capacity as an argument and returns the name of the vehicle and its seating capacity."
   ]
  },
  {
   "cell_type": "code",
   "execution_count": 14,
   "id": "2ca89ae3",
   "metadata": {},
   "outputs": [
    {
     "name": "stdout",
     "output_type": "stream",
     "text": [
      "sedan has a seating capacity of5 people\n"
     ]
    }
   ],
   "source": [
    "class car(vehicle):\n",
    "    def seating_capacity(self,capacity):\n",
    "        return f\"{self.name_of_vehicle} has a seating capacity of{capacity} people\"\n",
    "car = car(\"sedan\",200,40)\n",
    "print(car.seating_capacity(5))"
   ]
  },
  {
   "cell_type": "markdown",
   "id": "bbfcc8b5",
   "metadata": {},
   "source": [
    "##### Q3. What is multiple inheritance? Write a python code to demonstrate multiple inheritance."
   ]
  },
  {
   "cell_type": "markdown",
   "id": "f1efb0ac",
   "metadata": {},
   "source": [
    " Multiple Inheritance: In multiple inheritance, a subclass can inherit from multiple base classes"
   ]
  },
  {
   "cell_type": "code",
   "execution_count": 34,
   "id": "470a1637",
   "metadata": {},
   "outputs": [
    {
     "data": {
      "text/plain": [
       "'sedan has a seating capacity of 5 people'"
      ]
     },
     "execution_count": 34,
     "metadata": {},
     "output_type": "execute_result"
    }
   ],
   "source": [
    "class car(vehicle):\n",
    "    def seating_capacity(self,capacity):\n",
    "        return f\"{self.name_of_vehicle} has a seating capacity of {capacity} people\"\n",
    "class bike(vehicle):\n",
    "    def milage(self,milage):\n",
    "        return f\"{self.name_of_vehicle} has a milage of {milage} km per litre\"\n",
    "## multiple inheritance\n",
    "class vehicles(car, bike):\n",
    "    pass\n",
    "##example:\n",
    "car = car(\"sedan\",200,40)\n",
    "bike = bike(\"bullet\",100,37)\n",
    "\n",
    "vehicles.seating_capacity(car,5)"
   ]
  },
  {
   "cell_type": "code",
   "execution_count": 31,
   "id": "d8475922",
   "metadata": {},
   "outputs": [
    {
     "data": {
      "text/plain": [
       "'bullet has a milage of 37 km per litre'"
      ]
     },
     "execution_count": 31,
     "metadata": {},
     "output_type": "execute_result"
    }
   ],
   "source": [
    "vehicles.milage(bike,37)   "
   ]
  },
  {
   "cell_type": "markdown",
   "id": "cd50d25c",
   "metadata": {},
   "source": [
    "##### Q4. What are getter and setter in python? Create a class and create a getter and a setter method in this class."
   ]
  },
  {
   "cell_type": "markdown",
   "id": "a0df3c79",
   "metadata": {},
   "source": [
    "Getter and setter methods are used to control access to class attributes or properties. They provide a way to retrieve and modify the values of private attributes in a controlled manner, often adding validation or performing additional actions during the process.\n",
    "\n",
    "Here's an example of a class with a getter and a setter method:"
   ]
  },
  {
   "cell_type": "code",
   "execution_count": 1,
   "id": "7187c92f",
   "metadata": {},
   "outputs": [
    {
     "name": "stdout",
     "output_type": "stream",
     "text": [
      "John\n",
      "Mike\n",
      "25\n",
      "30\n"
     ]
    }
   ],
   "source": [
    "class Person:\n",
    "    def __init__(self, name, age):\n",
    "        self.name = name\n",
    "        self.age = age\n",
    "\n",
    "    # Getter method for the name attribute\n",
    "    def get_name(self):\n",
    "        return self.name\n",
    "\n",
    "    # Setter method for the name attribute\n",
    "    def set_name(self, name):\n",
    "        self.name = name\n",
    "\n",
    "    # Getter method for the age attribute\n",
    "    def get_age(self):\n",
    "        return self.age\n",
    "\n",
    "    # Setter method for the age attribute\n",
    "    def set_age(self, age):\n",
    "        self.age = age\n",
    "\n",
    "# Creating an instance of the Person class\n",
    "person = Person(\"John\", 25)\n",
    "\n",
    "# Using the getter and setter methods\n",
    "print(person.get_name())  \n",
    "person.set_name(\"Mike\")\n",
    "print(person.get_name())  \n",
    "\n",
    "print(person.get_age())   \n",
    "person.set_age(30)\n",
    "print(person.get_age())   \n"
   ]
  },
  {
   "cell_type": "markdown",
   "id": "feb54322",
   "metadata": {},
   "source": [
    "#### Q5.What is method overriding in python? Write a python code to demonstrate method overriding."
   ]
  },
  {
   "cell_type": "markdown",
   "id": "db308b44",
   "metadata": {},
   "source": [
    "Method overriding in Python allows a subclass to provide a different implementation of a method that is already defined in its superclass. When a method in the subclass has the same name and parameters as a method in the superclass, it overrides the superclass method, and the subclass method is executed instead when called."
   ]
  },
  {
   "cell_type": "code",
   "execution_count": 2,
   "id": "022fa822",
   "metadata": {},
   "outputs": [
    {
     "name": "stdout",
     "output_type": "stream",
     "text": [
      "The animal makes a sound.\n",
      "The dog barks.\n",
      "The cat meows.\n"
     ]
    }
   ],
   "source": [
    "class Animal:\n",
    "    def make_sound(self):\n",
    "        print(\"The animal makes a sound.\")\n",
    "\n",
    "class Dog(Animal):\n",
    "    def make_sound(self):\n",
    "        print(\"The dog barks.\")\n",
    "\n",
    "class Cat(Animal):\n",
    "    def make_sound(self):\n",
    "        print(\"The cat meows.\")\n",
    "\n",
    "# Creating instances of the classes\n",
    "animal = Animal()\n",
    "dog = Dog()\n",
    "cat = Cat()\n",
    "\n",
    "# Calling the make_sound method\n",
    "animal.make_sound()  \n",
    "dog.make_sound()     \n",
    "cat.make_sound()\n"
   ]
  },
  {
   "cell_type": "markdown",
   "id": "ca373873",
   "metadata": {},
   "source": [
    "In the above example, the Animal class defines a method called make_sound. The Dog and Cat classes inherit from Animal and override the make_sound method with their own implementations."
   ]
  }
 ],
 "metadata": {
  "kernelspec": {
   "display_name": "Python 3 (ipykernel)",
   "language": "python",
   "name": "python3"
  },
  "language_info": {
   "codemirror_mode": {
    "name": "ipython",
    "version": 3
   },
   "file_extension": ".py",
   "mimetype": "text/x-python",
   "name": "python",
   "nbconvert_exporter": "python",
   "pygments_lexer": "ipython3",
   "version": "3.9.13"
  }
 },
 "nbformat": 4,
 "nbformat_minor": 5
}
