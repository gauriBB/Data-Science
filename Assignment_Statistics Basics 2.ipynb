{
 "cells": [
  {
   "cell_type": "markdown",
   "id": "17d12434",
   "metadata": {},
   "source": [
    "### Q1. What are the three measures of central tendency?"
   ]
  },
  {
   "cell_type": "markdown",
   "id": "34fe5a2d",
   "metadata": {},
   "source": [
    "The three measures of central tendency are:\n",
    "\n",
    "Mean: The arithmetic average of a set of values. It is calculated by adding up all the values and dividing by the number of values.\n",
    "\n",
    "Median: The middle value of a dataset when it is sorted in ascending or descending order. If there is an even number of values, the median is the average of the two middle values.\n",
    "\n",
    "Mode: The value that appears most frequently in a dataset."
   ]
  },
  {
   "cell_type": "markdown",
   "id": "b2c34373",
   "metadata": {},
   "source": [
    "### Q2. What is the difference between the mean, median, and mode? How are they used to measure the central tendency of a dataset?"
   ]
  },
  {
   "cell_type": "markdown",
   "id": "134dc288",
   "metadata": {},
   "source": [
    "Mean: Sensitive to extreme values (outliers), affected by skewed distributions.\n",
    "Median: Not affected by extreme values, suitable for skewed distributions.\n",
    "Mode: Represents the most frequent value(s), but a dataset can have no mode, one mode, or multiple modes.\n",
    "These measures provide a summary of the \"center\" or \"typical\" value in a dataset. The choice of which measure to use depends on the nature of the data and the desired characteristics of the central tendency measure"
   ]
  },
  {
   "cell_type": "markdown",
   "id": "e60ad66b",
   "metadata": {},
   "source": [
    "### Q3. Measure the three measures of central tendency for the given height data:\n",
    "[178,177,176,177,178.2,178,175,179,180,175,178.9,176.2,177,172.5,178,176.5]"
   ]
  },
  {
   "cell_type": "code",
   "execution_count": 2,
   "id": "f0917798",
   "metadata": {},
   "outputs": [
    {
     "name": "stdout",
     "output_type": "stream",
     "text": [
      "Mean: 177.01875\n",
      "Median: 177.0\n",
      "Mode: 178\n"
     ]
    }
   ],
   "source": [
    "data = [178, 177, 176, 177, 178.2, 178, 175, 179, 180, 175, 178.9, 176.2, 177, 172.5, 178, 176.5]\n",
    "\n",
    "mean_height = sum(data) / len(data)\n",
    "sorted_data = sorted(data)\n",
    "median_height = (sorted_data[len(data) // 2] + sorted_data[(len(data) - 1) // 2]) / 2\n",
    "\n",
    "from collections import Counter\n",
    "mode_height = Counter(data).most_common(1)[0][0]\n",
    "\n",
    "print(\"Mean:\", mean_height)\n",
    "print(\"Median:\", median_height)\n",
    "print(\"Mode:\", mode_height)\n"
   ]
  },
  {
   "cell_type": "markdown",
   "id": "8a03c5db",
   "metadata": {},
   "source": [
    "### Q4. Find the standard deviation for the given data:\n",
    "[178,177,176,177,178.2,178,175,179,180,175,178.9,176.2,177,172.5,178,176.5]"
   ]
  },
  {
   "cell_type": "code",
   "execution_count": 3,
   "id": "46daac04",
   "metadata": {},
   "outputs": [
    {
     "name": "stdout",
     "output_type": "stream",
     "text": [
      "Standard Deviation: 1.8472389305844188\n"
     ]
    }
   ],
   "source": [
    "import statistics\n",
    "\n",
    "data = [178, 177, 176, 177, 178.2, 178, 175, 179, 180, 175, 178.9, 176.2, 177, 172.5, 178, 176.5]\n",
    "\n",
    "std_dev = statistics.stdev(data)\n",
    "print(\"Standard Deviation:\", std_dev)"
   ]
  },
  {
   "cell_type": "markdown",
   "id": "8a201bdd",
   "metadata": {},
   "source": [
    "### Q5. How are measures of dispersion such as range, variance, and standard deviation used to describe the spread of a dataset? Provide an example."
   ]
  },
  {
   "cell_type": "markdown",
   "id": "74018dde",
   "metadata": {},
   "source": [
    "Range: The difference between the maximum and minimum values. Larger range indicates greater spread.\n",
    "\n",
    "Variance and Standard Deviation: Measure how far individual data points deviate from the mean. A higher variance or standard deviation indicates greater dispersion."
   ]
  },
  {
   "cell_type": "code",
   "execution_count": 4,
   "id": "43c5e9b9",
   "metadata": {},
   "outputs": [
    {
     "name": "stdout",
     "output_type": "stream",
     "text": [
      "Range: 10\n",
      "Variance: 17\n",
      "Standard Deviation: 4.123105625617661\n"
     ]
    }
   ],
   "source": [
    "data = [10, 12, 15, 18, 20]\n",
    "\n",
    "range_val = max(data) - min(data)\n",
    "variance_val = statistics.variance(data)\n",
    "std_dev_val = statistics.stdev(data)\n",
    "\n",
    "print(\"Range:\", range_val)\n",
    "print(\"Variance:\", variance_val)\n",
    "print(\"Standard Deviation:\", std_dev_val)"
   ]
  },
  {
   "cell_type": "markdown",
   "id": "40c5ef96",
   "metadata": {},
   "source": [
    "### Q6. What is a Venn diagram?"
   ]
  },
  {
   "cell_type": "markdown",
   "id": "0c24bd9a",
   "metadata": {},
   "source": [
    "A Venn diagram is a graphical representation of the relationships between sets. It uses circles to represent sets, and the overlap between circles shows the common elements shared between sets. Venn diagrams are often used in set theory and probability to visually represent the intersections and unions of sets."
   ]
  },
  {
   "cell_type": "markdown",
   "id": "e27b6af6",
   "metadata": {},
   "source": [
    "### Q7. For the two given sets A = (2,3,4,5,6,7) & B = (0,2,6,8,10). Find:\n",
    "(i) A B\n",
    "(ii) A ⋃ B"
   ]
  },
  {
   "cell_type": "markdown",
   "id": "dadbe0d2",
   "metadata": {},
   "source": [
    "(i) Intersection (A ∩ B): The common elements between sets A and B.\n",
    "A ∩ B = {2, 6}\n",
    "\n",
    "(ii) Union (A ⋃ B): All unique elements from sets A and B.\n",
    "A ⋃ B = {0, 2, 3, 4, 5, 6, 7, 8, 10}"
   ]
  },
  {
   "cell_type": "markdown",
   "id": "e1d2e068",
   "metadata": {},
   "source": [
    "### Q8. What do you understand about skewness in data?\n"
   ]
  },
  {
   "cell_type": "markdown",
   "id": "266dfd0b",
   "metadata": {},
   "source": [
    "Skewness measures the asymmetry of a probability distribution. In a dataset:\n",
    "\n",
    "Positive Skewness (Right Skew): The right tail is longer, and the majority of data is concentrated on the left.\n",
    "\n",
    "Negative Skewness (Left Skew): The left tail is longer, and the majority of data is concentrated on the right."
   ]
  },
  {
   "cell_type": "markdown",
   "id": "8d593bac",
   "metadata": {},
   "source": [
    "### Q9. If a data is right skewed then what will be the position of median with respect to mean?"
   ]
  },
  {
   "cell_type": "markdown",
   "id": "b7b42cc1",
   "metadata": {},
   "source": [
    "In a right-skewed distribution (positively skewed), the tail on the right side is longer. In such cases:\n",
    "\n",
    "The median will be less than the mean.\n",
    "The mean is pulled to the right by the longer tail of higher values."
   ]
  },
  {
   "cell_type": "markdown",
   "id": "4ed6b184",
   "metadata": {},
   "source": [
    "### Q10. Explain the difference between covariance and correlation. How are these measures used in statistical analysis?"
   ]
  },
  {
   "cell_type": "markdown",
   "id": "91a1694d",
   "metadata": {},
   "source": [
    "Covariance: Measures how two variables change together. Positive covariance indicates a positive relationship, while negative covariance indicates a negative relationship. However, the magnitude of covariance is not standardized, making it difficult to compare the strength of relationships.\n",
    "\n",
    "Correlation: Standardized measure of the strength and direction of the linear relationship between two variables. It ranges from -1 to 1, where 1 indicates a perfect positive linear relationship, -1 indicates a perfect negative linear relationship, and 0 indicates no linear relationship.\n",
    "\n",
    "Both covariance and correlation are used to understand the relationship between two variables in statistical analysis."
   ]
  },
  {
   "cell_type": "markdown",
   "id": "53cb9486",
   "metadata": {},
   "source": [
    "### Q11. What is the formula for calculating the sample mean? Provide an example calculation for a dataset."
   ]
  },
  {
   "cell_type": "markdown",
   "id": "9637b28f",
   "metadata": {},
   "source": [
    "The formula for calculating the sample mean (bar x)\n",
    "bar x = (sum_(i=1)^n xi)/n\n",
    "Example:\n",
    "    Data = [10,15,20,25,30]\n",
    "    bar x = (10+15+20+25+30)/5 = 100/5 = 20"
   ]
  },
  {
   "cell_type": "markdown",
   "id": "d7507d24",
   "metadata": {},
   "source": [
    "### Q12. For a normal distribution data what is the relationship between its measure of central tendency?"
   ]
  },
  {
   "cell_type": "markdown",
   "id": "94b912d2",
   "metadata": {},
   "source": [
    "In a normal distribution:\n",
    "The mean (μ) is equal to the median.\n",
    "The mode is also equal to the mean and median.\n",
    "This symmetry is a characteristic feature of a perfectly normal distribution."
   ]
  },
  {
   "cell_type": "markdown",
   "id": "4e873d59",
   "metadata": {},
   "source": [
    "### Q13. How is covariance different from correlation?"
   ]
  },
  {
   "cell_type": "markdown",
   "id": "3c4b3fa9",
   "metadata": {},
   "source": [
    "Covariance: Measures the degree to which two variables change together. It is not standardized and can range from negative infinity to positive infinity. The units of covariance are the product of the units of the two variables.\n",
    "\n",
    "Correlation: Standardized measure of the strength and direction of the linear relationship between two variables. It ranges from -1 to 1, with 1 indicating a perfect positive linear relationship, -1 indicating a perfect negative linear relationship, and 0 indicating no linear relationship. Correlation is dimensionless."
   ]
  },
  {
   "cell_type": "markdown",
   "id": "0d9bc749",
   "metadata": {},
   "source": [
    "### Q14. How do outliers affect measures of central tendency and dispersion? Provide an example."
   ]
  },
  {
   "cell_type": "markdown",
   "id": "6193a3d1",
   "metadata": {},
   "source": [
    "Outliers can have a substantial impact on measures of central tendency and dispersion:\n",
    "\n",
    "Central Tendency:\n",
    "Mean: Outliers can heavily influence the mean, pulling it towards extreme values. For instance, in a dataset [10, 12, 14, 15, 100], the mean is significantly higher than the majority of data due to the outlier 100.\n",
    "Median: The median is less affected by outliers since it depends on the order of values. In the same dataset, the median remains close to the typical values (14).\n",
    "\n",
    "Dispersion:\n",
    "Range: Outliers can substantially increase the range. In the dataset [5, 8, 10, 12, 100], the range is significantly larger due to the outlier.\n",
    "Variance and Standard Deviation: Outliers can increase the variability of data, leading to higher variance and standard deviation. For example, in the dataset [5, 8, 10, 12, 100], the standard deviation is higher due to the presence of the outlier.\n",
    "It's crucial to be aware of outliers and consider their impact, especially when interpreting statistical measures, as they can distort the overall characteristics of the data. Outlier detection and treatment methods are often employed to mitigate their influence."
   ]
  }
 ],
 "metadata": {
  "kernelspec": {
   "display_name": "Python 3 (ipykernel)",
   "language": "python",
   "name": "python3"
  },
  "language_info": {
   "codemirror_mode": {
    "name": "ipython",
    "version": 3
   },
   "file_extension": ".py",
   "mimetype": "text/x-python",
   "name": "python",
   "nbconvert_exporter": "python",
   "pygments_lexer": "ipython3",
   "version": "3.11.5"
  }
 },
 "nbformat": 4,
 "nbformat_minor": 5
}
